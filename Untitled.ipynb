{
 "cells": [
  {
   "cell_type": "code",
   "execution_count": 54,
   "metadata": {},
   "outputs": [],
   "source": [
    "import os\n",
    "import numpy as np\n",
    "import pandas as pd\n",
    "import random\n",
    "import rdkit\n",
    "import matplotlib.pyplot as plt\n",
    "from sklearn.model_selection import train_test_split\n",
    "from sklearn.linear_model import LogisticRegression\n",
    "from sklearn.metrics import accuracy_score\n",
    "from keras.models import Sequential\n",
    "from keras.layers import Dense, Activation, MaxPooling2D, Conv2D, GlobalAveragePooling2D, Reshape, Flatten\n",
    "from keras.optimizers import SGD\n",
    "\n",
    "from src.utils.feature_extractor import fingerprint_features\n",
    "\n",
    "random.seed(0)"
   ]
  },
  {
   "cell_type": "markdown",
   "metadata": {},
   "source": [
    "## Load data"
   ]
  },
  {
   "cell_type": "code",
   "execution_count": 2,
   "metadata": {},
   "outputs": [],
   "source": [
    "df_single = pd.read_csv(\"data/dataset_single.csv\")\n",
    "df_multi = pd.read_csv(\"data/dataset_multi.csv\")"
   ]
  },
  {
   "cell_type": "code",
   "execution_count": 3,
   "metadata": {},
   "outputs": [
    {
     "name": "stdout",
     "output_type": "stream",
     "text": [
      "(4999, 3)\n"
     ]
    },
    {
     "data": {
      "text/html": [
       "<div>\n",
       "<style scoped>\n",
       "    .dataframe tbody tr th:only-of-type {\n",
       "        vertical-align: middle;\n",
       "    }\n",
       "\n",
       "    .dataframe tbody tr th {\n",
       "        vertical-align: top;\n",
       "    }\n",
       "\n",
       "    .dataframe thead th {\n",
       "        text-align: right;\n",
       "    }\n",
       "</style>\n",
       "<table border=\"1\" class=\"dataframe\">\n",
       "  <thead>\n",
       "    <tr style=\"text-align: right;\">\n",
       "      <th></th>\n",
       "      <th>P1</th>\n",
       "      <th>mol_id</th>\n",
       "      <th>smiles</th>\n",
       "    </tr>\n",
       "  </thead>\n",
       "  <tbody>\n",
       "    <tr>\n",
       "      <th>0</th>\n",
       "      <td>1</td>\n",
       "      <td>CID2999678</td>\n",
       "      <td>Cc1cccc(N2CCN(C(=O)C34CC5CC(CC(C5)C3)C4)CC2)c1C</td>\n",
       "    </tr>\n",
       "    <tr>\n",
       "      <th>1</th>\n",
       "      <td>0</td>\n",
       "      <td>CID2999679</td>\n",
       "      <td>Cn1ccnc1SCC(=O)Nc1ccc(Oc2ccccc2)cc1</td>\n",
       "    </tr>\n",
       "    <tr>\n",
       "      <th>2</th>\n",
       "      <td>1</td>\n",
       "      <td>CID2999672</td>\n",
       "      <td>COc1cc2c(cc1NC(=O)CN1C(=O)NC3(CCc4ccccc43)C1=O...</td>\n",
       "    </tr>\n",
       "    <tr>\n",
       "      <th>3</th>\n",
       "      <td>0</td>\n",
       "      <td>CID5390002</td>\n",
       "      <td>O=C1/C(=C/NC2CCS(=O)(=O)C2)c2ccccc2C(=O)N1c1cc...</td>\n",
       "    </tr>\n",
       "    <tr>\n",
       "      <th>4</th>\n",
       "      <td>1</td>\n",
       "      <td>CID2999670</td>\n",
       "      <td>NC(=O)NC(Cc1ccccc1)C(=O)O</td>\n",
       "    </tr>\n",
       "  </tbody>\n",
       "</table>\n",
       "</div>"
      ],
      "text/plain": [
       "   P1      mol_id                                             smiles\n",
       "0   1  CID2999678    Cc1cccc(N2CCN(C(=O)C34CC5CC(CC(C5)C3)C4)CC2)c1C\n",
       "1   0  CID2999679                Cn1ccnc1SCC(=O)Nc1ccc(Oc2ccccc2)cc1\n",
       "2   1  CID2999672  COc1cc2c(cc1NC(=O)CN1C(=O)NC3(CCc4ccccc43)C1=O...\n",
       "3   0  CID5390002  O=C1/C(=C/NC2CCS(=O)(=O)C2)c2ccccc2C(=O)N1c1cc...\n",
       "4   1  CID2999670                          NC(=O)NC(Cc1ccccc1)C(=O)O"
      ]
     },
     "execution_count": 3,
     "metadata": {},
     "output_type": "execute_result"
    }
   ],
   "source": [
    "print(df_single.shape)\n",
    "df_single.head()"
   ]
  },
  {
   "cell_type": "code",
   "execution_count": 91,
   "metadata": {},
   "outputs": [
    {
     "data": {
      "text/plain": [
       "'Cc1cccc(N2CCN(C(=O)C34CC5CC(CC(C5)C3)C4)CC2)c1C'"
      ]
     },
     "execution_count": 91,
     "metadata": {},
     "output_type": "execute_result"
    }
   ],
   "source": [
    "df_single.smiles[0]"
   ]
  },
  {
   "cell_type": "code",
   "execution_count": 4,
   "metadata": {},
   "outputs": [
    {
     "name": "stdout",
     "output_type": "stream",
     "text": [
      "(4999, 3)\n"
     ]
    },
    {
     "data": {
      "text/html": [
       "<div>\n",
       "<style scoped>\n",
       "    .dataframe tbody tr th:only-of-type {\n",
       "        vertical-align: middle;\n",
       "    }\n",
       "\n",
       "    .dataframe tbody tr th {\n",
       "        vertical-align: top;\n",
       "    }\n",
       "\n",
       "    .dataframe thead th {\n",
       "        text-align: right;\n",
       "    }\n",
       "</style>\n",
       "<table border=\"1\" class=\"dataframe\">\n",
       "  <thead>\n",
       "    <tr style=\"text-align: right;\">\n",
       "      <th></th>\n",
       "      <th>P2</th>\n",
       "      <th>P1</th>\n",
       "      <th>P3</th>\n",
       "      <th>P4</th>\n",
       "      <th>P5</th>\n",
       "      <th>P6</th>\n",
       "      <th>P7</th>\n",
       "      <th>P8</th>\n",
       "      <th>P9</th>\n",
       "      <th>mol_id</th>\n",
       "      <th>smiles</th>\n",
       "    </tr>\n",
       "  </thead>\n",
       "  <tbody>\n",
       "    <tr>\n",
       "      <th>0</th>\n",
       "      <td>1</td>\n",
       "      <td>1</td>\n",
       "      <td>1</td>\n",
       "      <td>1</td>\n",
       "      <td>1</td>\n",
       "      <td>1</td>\n",
       "      <td>1</td>\n",
       "      <td>0</td>\n",
       "      <td>1</td>\n",
       "      <td>CID2999678</td>\n",
       "      <td>Cc1cccc(N2CCN(C(=O)C34CC5CC(CC(C5)C3)C4)CC2)c1C</td>\n",
       "    </tr>\n",
       "    <tr>\n",
       "      <th>1</th>\n",
       "      <td>0</td>\n",
       "      <td>0</td>\n",
       "      <td>1</td>\n",
       "      <td>1</td>\n",
       "      <td>0</td>\n",
       "      <td>0</td>\n",
       "      <td>0</td>\n",
       "      <td>1</td>\n",
       "      <td>1</td>\n",
       "      <td>CID2999679</td>\n",
       "      <td>Cn1ccnc1SCC(=O)Nc1ccc(Oc2ccccc2)cc1</td>\n",
       "    </tr>\n",
       "    <tr>\n",
       "      <th>2</th>\n",
       "      <td>1</td>\n",
       "      <td>1</td>\n",
       "      <td>0</td>\n",
       "      <td>1</td>\n",
       "      <td>1</td>\n",
       "      <td>1</td>\n",
       "      <td>1</td>\n",
       "      <td>1</td>\n",
       "      <td>1</td>\n",
       "      <td>CID2999672</td>\n",
       "      <td>COc1cc2c(cc1NC(=O)CN1C(=O)NC3(CCc4ccccc43)C1=O...</td>\n",
       "    </tr>\n",
       "    <tr>\n",
       "      <th>3</th>\n",
       "      <td>1</td>\n",
       "      <td>0</td>\n",
       "      <td>0</td>\n",
       "      <td>1</td>\n",
       "      <td>1</td>\n",
       "      <td>0</td>\n",
       "      <td>1</td>\n",
       "      <td>1</td>\n",
       "      <td>1</td>\n",
       "      <td>CID5390002</td>\n",
       "      <td>O=C1/C(=C/NC2CCS(=O)(=O)C2)c2ccccc2C(=O)N1c1cc...</td>\n",
       "    </tr>\n",
       "    <tr>\n",
       "      <th>4</th>\n",
       "      <td>0</td>\n",
       "      <td>1</td>\n",
       "      <td>1</td>\n",
       "      <td>1</td>\n",
       "      <td>0</td>\n",
       "      <td>1</td>\n",
       "      <td>0</td>\n",
       "      <td>0</td>\n",
       "      <td>1</td>\n",
       "      <td>CID2999670</td>\n",
       "      <td>NC(=O)NC(Cc1ccccc1)C(=O)O</td>\n",
       "    </tr>\n",
       "  </tbody>\n",
       "</table>\n",
       "</div>"
      ],
      "text/plain": [
       "   P2  P1  P3  P4  P5  P6  P7  P8  P9      mol_id  \\\n",
       "0   1   1   1   1   1   1   1   0   1  CID2999678   \n",
       "1   0   0   1   1   0   0   0   1   1  CID2999679   \n",
       "2   1   1   0   1   1   1   1   1   1  CID2999672   \n",
       "3   1   0   0   1   1   0   1   1   1  CID5390002   \n",
       "4   0   1   1   1   0   1   0   0   1  CID2999670   \n",
       "\n",
       "                                              smiles  \n",
       "0    Cc1cccc(N2CCN(C(=O)C34CC5CC(CC(C5)C3)C4)CC2)c1C  \n",
       "1                Cn1ccnc1SCC(=O)Nc1ccc(Oc2ccccc2)cc1  \n",
       "2  COc1cc2c(cc1NC(=O)CN1C(=O)NC3(CCc4ccccc43)C1=O...  \n",
       "3  O=C1/C(=C/NC2CCS(=O)(=O)C2)c2ccccc2C(=O)N1c1cc...  \n",
       "4                          NC(=O)NC(Cc1ccccc1)C(=O)O  "
      ]
     },
     "execution_count": 4,
     "metadata": {},
     "output_type": "execute_result"
    }
   ],
   "source": [
    "print(df_single.shape)\n",
    "df_multi.head()"
   ]
  },
  {
   "cell_type": "markdown",
   "metadata": {},
   "source": [
    "## Model 1 - extracted features as input"
   ]
  },
  {
   "cell_type": "markdown",
   "metadata": {},
   "source": [
    "### Features extraction"
   ]
  },
  {
   "cell_type": "code",
   "execution_count": 6,
   "metadata": {},
   "outputs": [
    {
     "data": {
      "text/html": [
       "<div>\n",
       "<style scoped>\n",
       "    .dataframe tbody tr th:only-of-type {\n",
       "        vertical-align: middle;\n",
       "    }\n",
       "\n",
       "    .dataframe tbody tr th {\n",
       "        vertical-align: top;\n",
       "    }\n",
       "\n",
       "    .dataframe thead th {\n",
       "        text-align: right;\n",
       "    }\n",
       "</style>\n",
       "<table border=\"1\" class=\"dataframe\">\n",
       "  <thead>\n",
       "    <tr style=\"text-align: right;\">\n",
       "      <th></th>\n",
       "      <th>P1</th>\n",
       "      <th>mol_id</th>\n",
       "      <th>smiles</th>\n",
       "      <th>fingerprint_features</th>\n",
       "    </tr>\n",
       "  </thead>\n",
       "  <tbody>\n",
       "    <tr>\n",
       "      <th>0</th>\n",
       "      <td>1</td>\n",
       "      <td>CID2999678</td>\n",
       "      <td>Cc1cccc(N2CCN(C(=O)C34CC5CC(CC(C5)C3)C4)CC2)c1C</td>\n",
       "      <td>[0, 0, 0, 0, 0, 0, 0, 0, 0, 0, 0, 0, 0, 0, 0, ...</td>\n",
       "    </tr>\n",
       "    <tr>\n",
       "      <th>1</th>\n",
       "      <td>0</td>\n",
       "      <td>CID2999679</td>\n",
       "      <td>Cn1ccnc1SCC(=O)Nc1ccc(Oc2ccccc2)cc1</td>\n",
       "      <td>[0, 0, 0, 0, 0, 0, 0, 0, 0, 0, 0, 0, 0, 0, 0, ...</td>\n",
       "    </tr>\n",
       "    <tr>\n",
       "      <th>2</th>\n",
       "      <td>1</td>\n",
       "      <td>CID2999672</td>\n",
       "      <td>COc1cc2c(cc1NC(=O)CN1C(=O)NC3(CCc4ccccc43)C1=O...</td>\n",
       "      <td>[0, 0, 0, 0, 0, 0, 0, 0, 0, 0, 0, 0, 0, 0, 0, ...</td>\n",
       "    </tr>\n",
       "    <tr>\n",
       "      <th>3</th>\n",
       "      <td>0</td>\n",
       "      <td>CID5390002</td>\n",
       "      <td>O=C1/C(=C/NC2CCS(=O)(=O)C2)c2ccccc2C(=O)N1c1cc...</td>\n",
       "      <td>[0, 0, 0, 0, 0, 0, 0, 0, 0, 0, 0, 0, 0, 0, 0, ...</td>\n",
       "    </tr>\n",
       "    <tr>\n",
       "      <th>4</th>\n",
       "      <td>1</td>\n",
       "      <td>CID2999670</td>\n",
       "      <td>NC(=O)NC(Cc1ccccc1)C(=O)O</td>\n",
       "      <td>[0, 1, 0, 0, 0, 0, 0, 0, 0, 0, 0, 0, 0, 0, 0, ...</td>\n",
       "    </tr>\n",
       "  </tbody>\n",
       "</table>\n",
       "</div>"
      ],
      "text/plain": [
       "   P1      mol_id                                             smiles  \\\n",
       "0   1  CID2999678    Cc1cccc(N2CCN(C(=O)C34CC5CC(CC(C5)C3)C4)CC2)c1C   \n",
       "1   0  CID2999679                Cn1ccnc1SCC(=O)Nc1ccc(Oc2ccccc2)cc1   \n",
       "2   1  CID2999672  COc1cc2c(cc1NC(=O)CN1C(=O)NC3(CCc4ccccc43)C1=O...   \n",
       "3   0  CID5390002  O=C1/C(=C/NC2CCS(=O)(=O)C2)c2ccccc2C(=O)N1c1cc...   \n",
       "4   1  CID2999670                          NC(=O)NC(Cc1ccccc1)C(=O)O   \n",
       "\n",
       "                                fingerprint_features  \n",
       "0  [0, 0, 0, 0, 0, 0, 0, 0, 0, 0, 0, 0, 0, 0, 0, ...  \n",
       "1  [0, 0, 0, 0, 0, 0, 0, 0, 0, 0, 0, 0, 0, 0, 0, ...  \n",
       "2  [0, 0, 0, 0, 0, 0, 0, 0, 0, 0, 0, 0, 0, 0, 0, ...  \n",
       "3  [0, 0, 0, 0, 0, 0, 0, 0, 0, 0, 0, 0, 0, 0, 0, ...  \n",
       "4  [0, 1, 0, 0, 0, 0, 0, 0, 0, 0, 0, 0, 0, 0, 0, ...  "
      ]
     },
     "execution_count": 6,
     "metadata": {},
     "output_type": "execute_result"
    }
   ],
   "source": [
    "df_single[\"fingerprint_features\"] = df_single[\"smiles\"].apply(lambda x: list(fingerprint_features(x)))\n",
    "df_single.head()"
   ]
  },
  {
   "cell_type": "code",
   "execution_count": 7,
   "metadata": {},
   "outputs": [
    {
     "data": {
      "text/plain": [
       "2048"
      ]
     },
     "execution_count": 7,
     "metadata": {},
     "output_type": "execute_result"
    }
   ],
   "source": [
    "len(df_single.loc[0, \"fingerprint_features\"])"
   ]
  },
  {
   "cell_type": "code",
   "execution_count": 8,
   "metadata": {},
   "outputs": [
    {
     "data": {
      "text/html": [
       "<div>\n",
       "<style scoped>\n",
       "    .dataframe tbody tr th:only-of-type {\n",
       "        vertical-align: middle;\n",
       "    }\n",
       "\n",
       "    .dataframe tbody tr th {\n",
       "        vertical-align: top;\n",
       "    }\n",
       "\n",
       "    .dataframe thead th {\n",
       "        text-align: right;\n",
       "    }\n",
       "</style>\n",
       "<table border=\"1\" class=\"dataframe\">\n",
       "  <thead>\n",
       "    <tr style=\"text-align: right;\">\n",
       "      <th></th>\n",
       "      <th>0</th>\n",
       "      <th>1</th>\n",
       "      <th>2</th>\n",
       "      <th>3</th>\n",
       "      <th>4</th>\n",
       "      <th>5</th>\n",
       "      <th>6</th>\n",
       "      <th>7</th>\n",
       "      <th>8</th>\n",
       "      <th>9</th>\n",
       "      <th>...</th>\n",
       "      <th>2038</th>\n",
       "      <th>2039</th>\n",
       "      <th>2040</th>\n",
       "      <th>2041</th>\n",
       "      <th>2042</th>\n",
       "      <th>2043</th>\n",
       "      <th>2044</th>\n",
       "      <th>2045</th>\n",
       "      <th>2046</th>\n",
       "      <th>2047</th>\n",
       "    </tr>\n",
       "  </thead>\n",
       "  <tbody>\n",
       "    <tr>\n",
       "      <th>0</th>\n",
       "      <td>0</td>\n",
       "      <td>0</td>\n",
       "      <td>0</td>\n",
       "      <td>0</td>\n",
       "      <td>0</td>\n",
       "      <td>0</td>\n",
       "      <td>0</td>\n",
       "      <td>0</td>\n",
       "      <td>0</td>\n",
       "      <td>0</td>\n",
       "      <td>...</td>\n",
       "      <td>0</td>\n",
       "      <td>0</td>\n",
       "      <td>0</td>\n",
       "      <td>0</td>\n",
       "      <td>0</td>\n",
       "      <td>0</td>\n",
       "      <td>0</td>\n",
       "      <td>0</td>\n",
       "      <td>0</td>\n",
       "      <td>0</td>\n",
       "    </tr>\n",
       "    <tr>\n",
       "      <th>1</th>\n",
       "      <td>0</td>\n",
       "      <td>0</td>\n",
       "      <td>0</td>\n",
       "      <td>0</td>\n",
       "      <td>0</td>\n",
       "      <td>0</td>\n",
       "      <td>0</td>\n",
       "      <td>0</td>\n",
       "      <td>0</td>\n",
       "      <td>0</td>\n",
       "      <td>...</td>\n",
       "      <td>0</td>\n",
       "      <td>0</td>\n",
       "      <td>0</td>\n",
       "      <td>0</td>\n",
       "      <td>0</td>\n",
       "      <td>0</td>\n",
       "      <td>0</td>\n",
       "      <td>0</td>\n",
       "      <td>0</td>\n",
       "      <td>0</td>\n",
       "    </tr>\n",
       "    <tr>\n",
       "      <th>2</th>\n",
       "      <td>0</td>\n",
       "      <td>0</td>\n",
       "      <td>0</td>\n",
       "      <td>0</td>\n",
       "      <td>0</td>\n",
       "      <td>0</td>\n",
       "      <td>0</td>\n",
       "      <td>0</td>\n",
       "      <td>0</td>\n",
       "      <td>0</td>\n",
       "      <td>...</td>\n",
       "      <td>0</td>\n",
       "      <td>0</td>\n",
       "      <td>0</td>\n",
       "      <td>0</td>\n",
       "      <td>0</td>\n",
       "      <td>0</td>\n",
       "      <td>0</td>\n",
       "      <td>0</td>\n",
       "      <td>0</td>\n",
       "      <td>0</td>\n",
       "    </tr>\n",
       "    <tr>\n",
       "      <th>3</th>\n",
       "      <td>0</td>\n",
       "      <td>0</td>\n",
       "      <td>0</td>\n",
       "      <td>0</td>\n",
       "      <td>0</td>\n",
       "      <td>0</td>\n",
       "      <td>0</td>\n",
       "      <td>0</td>\n",
       "      <td>0</td>\n",
       "      <td>0</td>\n",
       "      <td>...</td>\n",
       "      <td>0</td>\n",
       "      <td>0</td>\n",
       "      <td>0</td>\n",
       "      <td>0</td>\n",
       "      <td>0</td>\n",
       "      <td>0</td>\n",
       "      <td>0</td>\n",
       "      <td>0</td>\n",
       "      <td>0</td>\n",
       "      <td>0</td>\n",
       "    </tr>\n",
       "    <tr>\n",
       "      <th>4</th>\n",
       "      <td>0</td>\n",
       "      <td>1</td>\n",
       "      <td>0</td>\n",
       "      <td>0</td>\n",
       "      <td>0</td>\n",
       "      <td>0</td>\n",
       "      <td>0</td>\n",
       "      <td>0</td>\n",
       "      <td>0</td>\n",
       "      <td>0</td>\n",
       "      <td>...</td>\n",
       "      <td>0</td>\n",
       "      <td>0</td>\n",
       "      <td>0</td>\n",
       "      <td>0</td>\n",
       "      <td>0</td>\n",
       "      <td>0</td>\n",
       "      <td>0</td>\n",
       "      <td>0</td>\n",
       "      <td>0</td>\n",
       "      <td>0</td>\n",
       "    </tr>\n",
       "  </tbody>\n",
       "</table>\n",
       "<p>5 rows × 2048 columns</p>\n",
       "</div>"
      ],
      "text/plain": [
       "   0     1     2     3     4     5     6     7     8     9     ...  2038  \\\n",
       "0     0     0     0     0     0     0     0     0     0     0  ...     0   \n",
       "1     0     0     0     0     0     0     0     0     0     0  ...     0   \n",
       "2     0     0     0     0     0     0     0     0     0     0  ...     0   \n",
       "3     0     0     0     0     0     0     0     0     0     0  ...     0   \n",
       "4     0     1     0     0     0     0     0     0     0     0  ...     0   \n",
       "\n",
       "   2039  2040  2041  2042  2043  2044  2045  2046  2047  \n",
       "0     0     0     0     0     0     0     0     0     0  \n",
       "1     0     0     0     0     0     0     0     0     0  \n",
       "2     0     0     0     0     0     0     0     0     0  \n",
       "3     0     0     0     0     0     0     0     0     0  \n",
       "4     0     0     0     0     0     0     0     0     0  \n",
       "\n",
       "[5 rows x 2048 columns]"
      ]
     },
     "execution_count": 8,
     "metadata": {},
     "output_type": "execute_result"
    }
   ],
   "source": [
    "df_features = pd.DataFrame(df_single[\"fingerprint_features\"].values.tolist())\n",
    "df_features.head()"
   ]
  },
  {
   "cell_type": "code",
   "execution_count": 9,
   "metadata": {},
   "outputs": [
    {
     "name": "stdout",
     "output_type": "stream",
     "text": [
      "(4999, 2048)\n",
      "4108\n",
      "(4999,)\n"
     ]
    }
   ],
   "source": [
    "X = df_features.values\n",
    "print(X.shape)\n",
    "\n",
    "y = df_single[\"P1\"]\n",
    "print(np.sum(y))\n",
    "print(y.shape)"
   ]
  },
  {
   "cell_type": "markdown",
   "metadata": {},
   "source": [
    "### Train/test split"
   ]
  },
  {
   "cell_type": "code",
   "execution_count": 10,
   "metadata": {},
   "outputs": [],
   "source": [
    "X_train, X_test, y_train, y_test = train_test_split(X, y, test_size=0.2, stratify=y, random_state=0)"
   ]
  },
  {
   "cell_type": "markdown",
   "metadata": {},
   "source": [
    "### Logistic Regression"
   ]
  },
  {
   "cell_type": "code",
   "execution_count": 11,
   "metadata": {},
   "outputs": [
    {
     "data": {
      "text/plain": [
       "0.781"
      ]
     },
     "execution_count": 11,
     "metadata": {},
     "output_type": "execute_result"
    }
   ],
   "source": [
    "lr = LogisticRegression(max_iter=10000)\n",
    "lr.fit(X_train, y_train)\n",
    "\n",
    "y_pred = lr.predict(X_test)\n",
    "accuracy_score(y_pred, y_test)"
   ]
  },
  {
   "cell_type": "markdown",
   "metadata": {},
   "source": [
    "### MLP"
   ]
  },
  {
   "cell_type": "code",
   "execution_count": 25,
   "metadata": {},
   "outputs": [],
   "source": [
    "from keras.layers import Dense, Input, Dropout\n",
    "from keras.models import Model\n",
    "from keras.optimizers import Adam\n",
    "from keras import regularizers\n",
    "\n",
    "def mlp_model_construction(dict_params_mlp, num_output_nodes,\n",
    "                           input_length, loss_type, metric):\n",
    "     \n",
    "    l1_reg = dict_params_mlp['l1_regularizer']\n",
    "    l2_reg = dict_params_mlp['l2_regularizer']\n",
    "     \n",
    "    input_tensor = Input(shape=(input_length,))\n",
    "        \n",
    "    # layer 1\n",
    "    number_of_nodes = input_length//2\n",
    "     \n",
    "    x = Dense(number_of_nodes, activation=dict_params_mlp['activation'],\n",
    "              kernel_regularizer=regularizers.l1_l2(l1=l1_reg, l2=l2_reg),\n",
    "              activity_regularizer=regularizers.l1_l2(l1=l1_reg, l2=l2_reg))(input_tensor)\n",
    "     \n",
    "    x = Dropout(dict_params_mlp['dropout'])(x)\n",
    "         \n",
    "    # layers\n",
    "    for layer in range(dict_params_mlp['layers'] - 1):\n",
    "        number_of_nodes = number_of_nodes//2\n",
    "         \n",
    "        x = Dense(number_of_nodes, activation=dict_params_mlp['activation'],\n",
    "                  kernel_regularizer=regularizers.l1_l2(l1=l1_reg, l2=l2_reg),\n",
    "                  activity_regularizer=regularizers.l1_l2(l1=l1_reg, l2=l2_reg))(x)\n",
    "         \n",
    "        x = Dropout(dict_params_mlp['dropout'])(x)\n",
    " \n",
    "    output_tensor = Dense(num_output_nodes)(x)\n",
    "        \n",
    "    model_mlp_f = Model(input_tensor, output_tensor)\n",
    "      \n",
    "    # compile the model\n",
    "    opt = Adam(lr=0.00025)  # default = 0.001\n",
    "    model_mlp_f.compile(optimizer=opt, loss=loss_type, metrics=[metric])\n",
    "      \n",
    "    return model_mlp_f "
   ]
  },
  {
   "cell_type": "code",
   "execution_count": 42,
   "metadata": {},
   "outputs": [],
   "source": [
    "from keras.layers import Dense, Input, Dropout\n",
    "from keras.layers import Conv1D, MaxPooling1D, Flatten\n",
    "from keras.models import Model\n",
    "from keras.optimizers import Adam\n",
    " \n",
    "def cnn_1d_model_construction(dict_params_cnn, num_output_nodes,\n",
    "                              input_length, loss_type, metric):\n",
    "     \n",
    "    poolsize = dict_params_cnn['kernel_size'] - 2\n",
    "    poolsize = min(poolsize, 2)\n",
    "     \n",
    "    input_tensor = Input(shape=(1, input_length))\n",
    "     \n",
    "    # 1st block\n",
    "    x = Conv1D(filters=dict_params_cnn['filters'], \n",
    "               kernel_size=dict_params_cnn['kernel_size'], \n",
    "               activation=dict_params_cnn['activation'],\n",
    "               data_format='channels_first')(input_tensor)\n",
    "    x = Dropout(dict_params_cnn['dropout'])(x)    \n",
    "    x = MaxPooling1D(pool_size=poolsize)(x)\n",
    "     \n",
    "    for iblock in range(dict_params_cnn['blocks'] - 1):\n",
    "        x = Conv1D(filters=dict_params_cnn['filters'], \n",
    "                   kernel_size=dict_params_cnn['kernel_size'], \n",
    "                   activation=dict_params_cnn['activation'],\n",
    "                   data_format='channels_first')(x)\n",
    "        x = Dropout(dict_params_cnn['dropout'])(x)    \n",
    "        x = MaxPooling1D(pool_size=poolsize)(x)\n",
    "  \n",
    "    x = Flatten()(x)\n",
    "     \n",
    "    x = Dropout(dict_params_cnn['dropout'])(x)\n",
    "     \n",
    "    x = Dense(dict_params_cnn['layer_1_nodes_num'], \n",
    "              activation = dict_params_cnn['activation'])(x)\n",
    "     \n",
    "    x = Dropout(dict_params_cnn['dropout'])(x)\n",
    "     \n",
    "    # target E [-0.15, 0.45] so no need of activation function\n",
    "    output_tensor = Dense(num_output_nodes)(x)\n",
    "        \n",
    "    model_cnn_f = Model(input_tensor, output_tensor)\n",
    "      \n",
    "    # compile the model\n",
    "    opt = Adam(lr=0.00025)  # default = 0.001\n",
    "    model_cnn_f.compile(optimizer=opt, loss=loss_type, metrics=[metric])\n",
    "      \n",
    "    return model_cnn_f"
   ]
  },
  {
   "cell_type": "code",
   "execution_count": 46,
   "metadata": {},
   "outputs": [],
   "source": [
    "from sklearn.model_selection import ParameterSampler\n",
    " \n",
    "def parameters_cnn(num_samples):\n",
    "     \n",
    "    batch_size = [32, 64]    \n",
    "    dropout = np.linspace(0.0, 0.5, num=11, endpoint=True)    \n",
    "    activation = ['relu','elu']\n",
    "    cnn_filters = [16, 32, 64]    \n",
    "    cnn_kernel_size = [5, 7, 9, 11, 13, 15]    \n",
    "    cnn_blocks = [2, 3, 4, 5]        \n",
    "    layer_1_nodes_num = [16, 32, 64, 128]\n",
    "         \n",
    "    grid = {'batch_size':batch_size, 'dropout':dropout,\n",
    "            'filters':cnn_filters, 'kernel_size':cnn_kernel_size,\n",
    "            'blocks':cnn_blocks, 'activation':activation, \n",
    "            'layer_1_nodes_num':layer_1_nodes_num}\n",
    "    \n",
    "    parameter_grid = list(ParameterSampler(grid, n_iter=num_samples))\n",
    "        \n",
    "    return parameter_grid\n",
    "\n",
    "def parameters_mlp(num_samples):    \n",
    "    batch_size = [32, 64]    \n",
    "    dropout = np.linspace(0.0, 0.5, num=11, endpoint=True)    \n",
    "    activation = ['relu','elu']\n",
    "    l1_regularizer = [0.0, 0.0001, 0.001]\n",
    "    l2_regularizer = [0.0, 0.0001, 0.001]   \n",
    "    layers = [3, 4, 5, 6]\n",
    "         \n",
    "    grid = {'batch_size':batch_size, 'dropout':dropout,\n",
    "            'activation':activation, \n",
    "            'l1_regularizer':l1_regularizer, \n",
    "            'l2_regularizer':l2_regularizer,\n",
    "            'layers':layers}\n",
    "    \n",
    "    parameter_grid = list(ParameterSampler(grid, n_iter=num_samples))\n",
    "     \n",
    "    return parameter_grid"
   ]
  },
  {
   "cell_type": "code",
   "execution_count": 40,
   "metadata": {},
   "outputs": [],
   "source": [
    "import time\n",
    "from keras.callbacks import EarlyStopping, ReduceLROnPlateau\n",
    " \n",
    "def nn_cv(x_calib, y_calib, cv_folds, metric,\n",
    "          nn_model, nn_model_copy, batchsize, num_epochs, stop_epochs, verbosity,\n",
    "          models_dir, model_name, threshold, learn_rate_epochs):\n",
    "       \n",
    "    callbacks_list = [EarlyStopping(monitor='val_loss', patience=stop_epochs),                     \n",
    "    ReduceLROnPlateau(monitor='val_loss', factor=0.1, patience=learn_rate_epochs, \n",
    "                      verbose=0, mode='auto', min_lr=1.0e-6)]\n",
    "     \n",
    "    cv_num = int(x_calib.shape[0]/cv_folds)\n",
    "    list_cv_metrics = []\n",
    "    list_cv_epochs = []\n",
    "    for fold in range(cv_folds):\n",
    "        # get train/valid\n",
    "        x_train = np.vstack((x_calib[:cv_num*fold], x_calib[cv_num*(fold+1):]))        \n",
    "        y_train = np.hstack((y_calib[:cv_num*fold], y_calib[cv_num*(fold+1):]))\n",
    "          \n",
    "        x_valid = x_calib[cv_num*fold:cv_num*(fold+1)]\n",
    "        y_valid = y_calib[cv_num*fold:cv_num*(fold+1)]\n",
    "         \n",
    "        # fit the model\n",
    "        h = nn_model.fit(x_train, y_train, epochs=num_epochs, \n",
    "                         batch_size=batchsize, validation_data=(x_valid, y_valid), \n",
    "                         callbacks=callbacks_list, verbose=verbosity)\n",
    "      \n",
    "        # collect cv stats\n",
    "        list_cv_metrics.append(np.min(h.history['val_' + metric]))\n",
    "        epoch_best_early_stop = len(h.history['val_loss']) - stop_epochs\n",
    "        list_cv_epochs.append(epoch_best_early_stop)\n",
    "                  \n",
    "    dict_return = {}\n",
    "    mean_cv_error = np.mean(list_cv_metrics)\n",
    "    max_cv_epochs = np.max(list_cv_epochs)\n",
    "    print('mean_cv_error =',mean_cv_error,'\\tthreshold =',threshold)\n",
    "    print('max_cv_epochs =',max_cv_epochs)\n",
    "     \n",
    "    if mean_cv_error < threshold:\n",
    "        # fit the model (use copy) with all calib data\n",
    "        h_refit = nn_model_copy.fit(x_calib, y_calib, epochs=max_cv_epochs, \n",
    "                                    batch_size=batchsize, verbose=0)\n",
    "        nn_model_copy.save(models_dir + model_name + '.h5')\n",
    "        dict_return['Model Name'] = model_name\n",
    "        dict_return['Metric'] = metric\n",
    "        dict_return['Mean CV Error'] = mean_cv_error\n",
    "        dict_return['Max CV Epochs'] = max_cv_epochs\n",
    "        dict_return['Batch Size'] = batchsize\n",
    "      \n",
    "    return dict_return\n"
   ]
  },
  {
   "cell_type": "code",
   "execution_count": 100,
   "metadata": {},
   "outputs": [
    {
     "data": {
      "text/plain": [
       "'20201110'"
      ]
     },
     "execution_count": 100,
     "metadata": {},
     "output_type": "execute_result"
    }
   ],
   "source": [
    "time.strftime(\"%Y%m%d\")"
   ]
  },
  {
   "cell_type": "code",
   "execution_count": 47,
   "metadata": {},
   "outputs": [
    {
     "name": "stdout",
     "output_type": "stream",
     "text": [
      "\n",
      "\n",
      "*** starting calibration at 2020-11-10 11:53:55.372373\n",
      "\n",
      "\n",
      "*** starting at 2020-11-10 11:53:55.394732\n",
      "{'layers': 4, 'l2_regularizer': 0.0001, 'l1_regularizer': 0.0, 'dropout': 0.5, 'batch_size': 64, 'activation': 'elu'}\n",
      "mean_cv_error = 0.10315356155236562 \tthreshold = 0.015\n",
      "max_cv_epochs = 21\n",
      "*** elapsed time = 2.0773974816004435  mins\tcounter = 0\n",
      "\n",
      "\n",
      "*** starting at 2020-11-10 11:56:00.038866\n",
      "{'layers': 6, 'l2_regularizer': 0.0, 'l1_regularizer': 0.0, 'dropout': 0.2, 'batch_size': 32, 'activation': 'elu'}\n",
      "mean_cv_error = 0.08852278937896092 \tthreshold = 0.015\n",
      "max_cv_epochs = 2\n",
      "*** elapsed time = 1.6909641981124879  mins\tcounter = 1\n",
      "\n",
      "\n",
      "*** starting at 2020-11-10 11:57:41.496838\n",
      "{'layers': 4, 'l2_regularizer': 0.0, 'l1_regularizer': 0.0, 'dropout': 0.45, 'batch_size': 64, 'activation': 'relu'}\n",
      "mean_cv_error = 0.06257929202790062 \tthreshold = 0.015\n",
      "max_cv_epochs = 44\n",
      "*** elapsed time = 1.6744449138641357  mins\tcounter = 2\n",
      "\n",
      "\n",
      "*** starting at 2020-11-10 11:59:21.963643\n",
      "{'layers': 3, 'l2_regularizer': 0.001, 'l1_regularizer': 0.0001, 'dropout': 0.35000000000000003, 'batch_size': 32, 'activation': 'elu'}\n",
      "mean_cv_error = 0.10243427505095799 \tthreshold = 0.015\n",
      "max_cv_epochs = 38\n",
      "*** elapsed time = 5.221907583872477  mins\tcounter = 3\n",
      "\n",
      "\n",
      "*** starting at 2020-11-10 12:04:35.278212\n",
      "{'layers': 6, 'l2_regularizer': 0.0001, 'l1_regularizer': 0.0, 'dropout': 0.2, 'batch_size': 64, 'activation': 'relu'}\n"
     ]
    },
    {
     "ename": "KeyboardInterrupt",
     "evalue": "",
     "output_type": "error",
     "traceback": [
      "\u001b[0;31m---------------------------------------------------------------------------\u001b[0m",
      "\u001b[0;31mKeyboardInterrupt\u001b[0m                         Traceback (most recent call last)",
      "\u001b[0;32m<ipython-input-47-68d4c439c628>\u001b[0m in \u001b[0;36m<module>\u001b[0;34m\u001b[0m\n\u001b[1;32m     69\u001b[0m                                 \u001b[0mcheckpoint_epochs_stop\u001b[0m\u001b[0;34m,\u001b[0m \u001b[0mverbose\u001b[0m\u001b[0;34m,\u001b[0m\u001b[0;34m\u001b[0m\u001b[0;34m\u001b[0m\u001b[0m\n\u001b[1;32m     70\u001b[0m                                 \u001b[0mmodels_directory\u001b[0m\u001b[0;34m,\u001b[0m \u001b[0mmodelname\u001b[0m\u001b[0;34m,\u001b[0m \u001b[0merror_threshold\u001b[0m\u001b[0;34m,\u001b[0m\u001b[0;34m\u001b[0m\u001b[0;34m\u001b[0m\u001b[0m\n\u001b[0;32m---> 71\u001b[0;31m                                 learning_rate_epochs)\n\u001b[0m\u001b[1;32m     72\u001b[0m \u001b[0;34m\u001b[0m\u001b[0m\n\u001b[1;32m     73\u001b[0m         \u001b[0melapsed_time_minutes\u001b[0m \u001b[0;34m=\u001b[0m \u001b[0;34m(\u001b[0m\u001b[0mtime\u001b[0m\u001b[0;34m.\u001b[0m\u001b[0mtime\u001b[0m\u001b[0;34m(\u001b[0m\u001b[0;34m)\u001b[0m \u001b[0;34m-\u001b[0m \u001b[0mstart_time_loop\u001b[0m\u001b[0;34m)\u001b[0m\u001b[0;34m/\u001b[0m\u001b[0;36m60\u001b[0m\u001b[0;34m\u001b[0m\u001b[0;34m\u001b[0m\u001b[0m\n",
      "\u001b[0;32m<ipython-input-40-c6c967cfeb20>\u001b[0m in \u001b[0;36mnn_cv\u001b[0;34m(x_calib, y_calib, cv_folds, metric, nn_model, nn_model_copy, batchsize, num_epochs, stop_epochs, verbosity, models_dir, model_name, threshold, learn_rate_epochs)\u001b[0m\n\u001b[1;32m     24\u001b[0m         h = nn_model.fit(x_train, y_train, epochs=num_epochs, \n\u001b[1;32m     25\u001b[0m                          \u001b[0mbatch_size\u001b[0m\u001b[0;34m=\u001b[0m\u001b[0mbatchsize\u001b[0m\u001b[0;34m,\u001b[0m \u001b[0mvalidation_data\u001b[0m\u001b[0;34m=\u001b[0m\u001b[0;34m(\u001b[0m\u001b[0mx_valid\u001b[0m\u001b[0;34m,\u001b[0m \u001b[0my_valid\u001b[0m\u001b[0;34m)\u001b[0m\u001b[0;34m,\u001b[0m\u001b[0;34m\u001b[0m\u001b[0;34m\u001b[0m\u001b[0m\n\u001b[0;32m---> 26\u001b[0;31m                          callbacks=callbacks_list, verbose=verbosity)\n\u001b[0m\u001b[1;32m     27\u001b[0m \u001b[0;34m\u001b[0m\u001b[0m\n\u001b[1;32m     28\u001b[0m         \u001b[0;31m# collect cv stats\u001b[0m\u001b[0;34m\u001b[0m\u001b[0;34m\u001b[0m\u001b[0;34m\u001b[0m\u001b[0m\n",
      "\u001b[0;32m/anaconda3/envs/servier/lib/python3.6/site-packages/tensorflow/python/keras/engine/training.py\u001b[0m in \u001b[0;36m_method_wrapper\u001b[0;34m(self, *args, **kwargs)\u001b[0m\n\u001b[1;32m    106\u001b[0m   \u001b[0;32mdef\u001b[0m \u001b[0m_method_wrapper\u001b[0m\u001b[0;34m(\u001b[0m\u001b[0mself\u001b[0m\u001b[0;34m,\u001b[0m \u001b[0;34m*\u001b[0m\u001b[0margs\u001b[0m\u001b[0;34m,\u001b[0m \u001b[0;34m**\u001b[0m\u001b[0mkwargs\u001b[0m\u001b[0;34m)\u001b[0m\u001b[0;34m:\u001b[0m\u001b[0;34m\u001b[0m\u001b[0;34m\u001b[0m\u001b[0m\n\u001b[1;32m    107\u001b[0m     \u001b[0;32mif\u001b[0m \u001b[0;32mnot\u001b[0m \u001b[0mself\u001b[0m\u001b[0;34m.\u001b[0m\u001b[0m_in_multi_worker_mode\u001b[0m\u001b[0;34m(\u001b[0m\u001b[0;34m)\u001b[0m\u001b[0;34m:\u001b[0m  \u001b[0;31m# pylint: disable=protected-access\u001b[0m\u001b[0;34m\u001b[0m\u001b[0;34m\u001b[0m\u001b[0m\n\u001b[0;32m--> 108\u001b[0;31m       \u001b[0;32mreturn\u001b[0m \u001b[0mmethod\u001b[0m\u001b[0;34m(\u001b[0m\u001b[0mself\u001b[0m\u001b[0;34m,\u001b[0m \u001b[0;34m*\u001b[0m\u001b[0margs\u001b[0m\u001b[0;34m,\u001b[0m \u001b[0;34m**\u001b[0m\u001b[0mkwargs\u001b[0m\u001b[0;34m)\u001b[0m\u001b[0;34m\u001b[0m\u001b[0;34m\u001b[0m\u001b[0m\n\u001b[0m\u001b[1;32m    109\u001b[0m \u001b[0;34m\u001b[0m\u001b[0m\n\u001b[1;32m    110\u001b[0m     \u001b[0;31m# Running inside `run_distribute_coordinator` already.\u001b[0m\u001b[0;34m\u001b[0m\u001b[0;34m\u001b[0m\u001b[0;34m\u001b[0m\u001b[0m\n",
      "\u001b[0;32m/anaconda3/envs/servier/lib/python3.6/site-packages/tensorflow/python/keras/engine/training.py\u001b[0m in \u001b[0;36mfit\u001b[0;34m(self, x, y, batch_size, epochs, verbose, callbacks, validation_split, validation_data, shuffle, class_weight, sample_weight, initial_epoch, steps_per_epoch, validation_steps, validation_batch_size, validation_freq, max_queue_size, workers, use_multiprocessing)\u001b[0m\n\u001b[1;32m   1096\u001b[0m                 batch_size=batch_size):\n\u001b[1;32m   1097\u001b[0m               \u001b[0mcallbacks\u001b[0m\u001b[0;34m.\u001b[0m\u001b[0mon_train_batch_begin\u001b[0m\u001b[0;34m(\u001b[0m\u001b[0mstep\u001b[0m\u001b[0;34m)\u001b[0m\u001b[0;34m\u001b[0m\u001b[0;34m\u001b[0m\u001b[0m\n\u001b[0;32m-> 1098\u001b[0;31m               \u001b[0mtmp_logs\u001b[0m \u001b[0;34m=\u001b[0m \u001b[0mtrain_function\u001b[0m\u001b[0;34m(\u001b[0m\u001b[0miterator\u001b[0m\u001b[0;34m)\u001b[0m\u001b[0;34m\u001b[0m\u001b[0;34m\u001b[0m\u001b[0m\n\u001b[0m\u001b[1;32m   1099\u001b[0m               \u001b[0;32mif\u001b[0m \u001b[0mdata_handler\u001b[0m\u001b[0;34m.\u001b[0m\u001b[0mshould_sync\u001b[0m\u001b[0;34m:\u001b[0m\u001b[0;34m\u001b[0m\u001b[0;34m\u001b[0m\u001b[0m\n\u001b[1;32m   1100\u001b[0m                 \u001b[0mcontext\u001b[0m\u001b[0;34m.\u001b[0m\u001b[0masync_wait\u001b[0m\u001b[0;34m(\u001b[0m\u001b[0;34m)\u001b[0m\u001b[0;34m\u001b[0m\u001b[0;34m\u001b[0m\u001b[0m\n",
      "\u001b[0;32m/anaconda3/envs/servier/lib/python3.6/site-packages/tensorflow/python/eager/def_function.py\u001b[0m in \u001b[0;36m__call__\u001b[0;34m(self, *args, **kwds)\u001b[0m\n\u001b[1;32m    778\u001b[0m       \u001b[0;32melse\u001b[0m\u001b[0;34m:\u001b[0m\u001b[0;34m\u001b[0m\u001b[0;34m\u001b[0m\u001b[0m\n\u001b[1;32m    779\u001b[0m         \u001b[0mcompiler\u001b[0m \u001b[0;34m=\u001b[0m \u001b[0;34m\"nonXla\"\u001b[0m\u001b[0;34m\u001b[0m\u001b[0;34m\u001b[0m\u001b[0m\n\u001b[0;32m--> 780\u001b[0;31m         \u001b[0mresult\u001b[0m \u001b[0;34m=\u001b[0m \u001b[0mself\u001b[0m\u001b[0;34m.\u001b[0m\u001b[0m_call\u001b[0m\u001b[0;34m(\u001b[0m\u001b[0;34m*\u001b[0m\u001b[0margs\u001b[0m\u001b[0;34m,\u001b[0m \u001b[0;34m**\u001b[0m\u001b[0mkwds\u001b[0m\u001b[0;34m)\u001b[0m\u001b[0;34m\u001b[0m\u001b[0;34m\u001b[0m\u001b[0m\n\u001b[0m\u001b[1;32m    781\u001b[0m \u001b[0;34m\u001b[0m\u001b[0m\n\u001b[1;32m    782\u001b[0m       \u001b[0mnew_tracing_count\u001b[0m \u001b[0;34m=\u001b[0m \u001b[0mself\u001b[0m\u001b[0;34m.\u001b[0m\u001b[0m_get_tracing_count\u001b[0m\u001b[0;34m(\u001b[0m\u001b[0;34m)\u001b[0m\u001b[0;34m\u001b[0m\u001b[0;34m\u001b[0m\u001b[0m\n",
      "\u001b[0;32m/anaconda3/envs/servier/lib/python3.6/site-packages/tensorflow/python/eager/def_function.py\u001b[0m in \u001b[0;36m_call\u001b[0;34m(self, *args, **kwds)\u001b[0m\n\u001b[1;32m    805\u001b[0m       \u001b[0;31m# In this case we have created variables on the first call, so we run the\u001b[0m\u001b[0;34m\u001b[0m\u001b[0;34m\u001b[0m\u001b[0;34m\u001b[0m\u001b[0m\n\u001b[1;32m    806\u001b[0m       \u001b[0;31m# defunned version which is guaranteed to never create variables.\u001b[0m\u001b[0;34m\u001b[0m\u001b[0;34m\u001b[0m\u001b[0;34m\u001b[0m\u001b[0m\n\u001b[0;32m--> 807\u001b[0;31m       \u001b[0;32mreturn\u001b[0m \u001b[0mself\u001b[0m\u001b[0;34m.\u001b[0m\u001b[0m_stateless_fn\u001b[0m\u001b[0;34m(\u001b[0m\u001b[0;34m*\u001b[0m\u001b[0margs\u001b[0m\u001b[0;34m,\u001b[0m \u001b[0;34m**\u001b[0m\u001b[0mkwds\u001b[0m\u001b[0;34m)\u001b[0m  \u001b[0;31m# pylint: disable=not-callable\u001b[0m\u001b[0;34m\u001b[0m\u001b[0;34m\u001b[0m\u001b[0m\n\u001b[0m\u001b[1;32m    808\u001b[0m     \u001b[0;32melif\u001b[0m \u001b[0mself\u001b[0m\u001b[0;34m.\u001b[0m\u001b[0m_stateful_fn\u001b[0m \u001b[0;32mis\u001b[0m \u001b[0;32mnot\u001b[0m \u001b[0;32mNone\u001b[0m\u001b[0;34m:\u001b[0m\u001b[0;34m\u001b[0m\u001b[0;34m\u001b[0m\u001b[0m\n\u001b[1;32m    809\u001b[0m       \u001b[0;31m# Release the lock early so that multiple threads can perform the call\u001b[0m\u001b[0;34m\u001b[0m\u001b[0;34m\u001b[0m\u001b[0;34m\u001b[0m\u001b[0m\n",
      "\u001b[0;32m/anaconda3/envs/servier/lib/python3.6/site-packages/tensorflow/python/eager/function.py\u001b[0m in \u001b[0;36m__call__\u001b[0;34m(self, *args, **kwargs)\u001b[0m\n\u001b[1;32m   2827\u001b[0m     \u001b[0;32mwith\u001b[0m \u001b[0mself\u001b[0m\u001b[0;34m.\u001b[0m\u001b[0m_lock\u001b[0m\u001b[0;34m:\u001b[0m\u001b[0;34m\u001b[0m\u001b[0;34m\u001b[0m\u001b[0m\n\u001b[1;32m   2828\u001b[0m       \u001b[0mgraph_function\u001b[0m\u001b[0;34m,\u001b[0m \u001b[0margs\u001b[0m\u001b[0;34m,\u001b[0m \u001b[0mkwargs\u001b[0m \u001b[0;34m=\u001b[0m \u001b[0mself\u001b[0m\u001b[0;34m.\u001b[0m\u001b[0m_maybe_define_function\u001b[0m\u001b[0;34m(\u001b[0m\u001b[0margs\u001b[0m\u001b[0;34m,\u001b[0m \u001b[0mkwargs\u001b[0m\u001b[0;34m)\u001b[0m\u001b[0;34m\u001b[0m\u001b[0;34m\u001b[0m\u001b[0m\n\u001b[0;32m-> 2829\u001b[0;31m     \u001b[0;32mreturn\u001b[0m \u001b[0mgraph_function\u001b[0m\u001b[0;34m.\u001b[0m\u001b[0m_filtered_call\u001b[0m\u001b[0;34m(\u001b[0m\u001b[0margs\u001b[0m\u001b[0;34m,\u001b[0m \u001b[0mkwargs\u001b[0m\u001b[0;34m)\u001b[0m  \u001b[0;31m# pylint: disable=protected-access\u001b[0m\u001b[0;34m\u001b[0m\u001b[0;34m\u001b[0m\u001b[0m\n\u001b[0m\u001b[1;32m   2830\u001b[0m \u001b[0;34m\u001b[0m\u001b[0m\n\u001b[1;32m   2831\u001b[0m   \u001b[0;34m@\u001b[0m\u001b[0mproperty\u001b[0m\u001b[0;34m\u001b[0m\u001b[0;34m\u001b[0m\u001b[0m\n",
      "\u001b[0;32m/anaconda3/envs/servier/lib/python3.6/site-packages/tensorflow/python/eager/function.py\u001b[0m in \u001b[0;36m_filtered_call\u001b[0;34m(self, args, kwargs, cancellation_manager)\u001b[0m\n\u001b[1;32m   1846\u001b[0m                            resource_variable_ops.BaseResourceVariable))],\n\u001b[1;32m   1847\u001b[0m         \u001b[0mcaptured_inputs\u001b[0m\u001b[0;34m=\u001b[0m\u001b[0mself\u001b[0m\u001b[0;34m.\u001b[0m\u001b[0mcaptured_inputs\u001b[0m\u001b[0;34m,\u001b[0m\u001b[0;34m\u001b[0m\u001b[0;34m\u001b[0m\u001b[0m\n\u001b[0;32m-> 1848\u001b[0;31m         cancellation_manager=cancellation_manager)\n\u001b[0m\u001b[1;32m   1849\u001b[0m \u001b[0;34m\u001b[0m\u001b[0m\n\u001b[1;32m   1850\u001b[0m   \u001b[0;32mdef\u001b[0m \u001b[0m_call_flat\u001b[0m\u001b[0;34m(\u001b[0m\u001b[0mself\u001b[0m\u001b[0;34m,\u001b[0m \u001b[0margs\u001b[0m\u001b[0;34m,\u001b[0m \u001b[0mcaptured_inputs\u001b[0m\u001b[0;34m,\u001b[0m \u001b[0mcancellation_manager\u001b[0m\u001b[0;34m=\u001b[0m\u001b[0;32mNone\u001b[0m\u001b[0;34m)\u001b[0m\u001b[0;34m:\u001b[0m\u001b[0;34m\u001b[0m\u001b[0;34m\u001b[0m\u001b[0m\n",
      "\u001b[0;32m/anaconda3/envs/servier/lib/python3.6/site-packages/tensorflow/python/eager/function.py\u001b[0m in \u001b[0;36m_call_flat\u001b[0;34m(self, args, captured_inputs, cancellation_manager)\u001b[0m\n\u001b[1;32m   1922\u001b[0m       \u001b[0;31m# No tape is watching; skip to running the function.\u001b[0m\u001b[0;34m\u001b[0m\u001b[0;34m\u001b[0m\u001b[0;34m\u001b[0m\u001b[0m\n\u001b[1;32m   1923\u001b[0m       return self._build_call_outputs(self._inference_function.call(\n\u001b[0;32m-> 1924\u001b[0;31m           ctx, args, cancellation_manager=cancellation_manager))\n\u001b[0m\u001b[1;32m   1925\u001b[0m     forward_backward = self._select_forward_and_backward_functions(\n\u001b[1;32m   1926\u001b[0m         \u001b[0margs\u001b[0m\u001b[0;34m,\u001b[0m\u001b[0;34m\u001b[0m\u001b[0;34m\u001b[0m\u001b[0m\n",
      "\u001b[0;32m/anaconda3/envs/servier/lib/python3.6/site-packages/tensorflow/python/eager/function.py\u001b[0m in \u001b[0;36mcall\u001b[0;34m(self, ctx, args, cancellation_manager)\u001b[0m\n\u001b[1;32m    548\u001b[0m               \u001b[0minputs\u001b[0m\u001b[0;34m=\u001b[0m\u001b[0margs\u001b[0m\u001b[0;34m,\u001b[0m\u001b[0;34m\u001b[0m\u001b[0;34m\u001b[0m\u001b[0m\n\u001b[1;32m    549\u001b[0m               \u001b[0mattrs\u001b[0m\u001b[0;34m=\u001b[0m\u001b[0mattrs\u001b[0m\u001b[0;34m,\u001b[0m\u001b[0;34m\u001b[0m\u001b[0;34m\u001b[0m\u001b[0m\n\u001b[0;32m--> 550\u001b[0;31m               ctx=ctx)\n\u001b[0m\u001b[1;32m    551\u001b[0m         \u001b[0;32melse\u001b[0m\u001b[0;34m:\u001b[0m\u001b[0;34m\u001b[0m\u001b[0;34m\u001b[0m\u001b[0m\n\u001b[1;32m    552\u001b[0m           outputs = execute.execute_with_cancellation(\n",
      "\u001b[0;32m/anaconda3/envs/servier/lib/python3.6/site-packages/tensorflow/python/eager/execute.py\u001b[0m in \u001b[0;36mquick_execute\u001b[0;34m(op_name, num_outputs, inputs, attrs, ctx, name)\u001b[0m\n\u001b[1;32m     58\u001b[0m     \u001b[0mctx\u001b[0m\u001b[0;34m.\u001b[0m\u001b[0mensure_initialized\u001b[0m\u001b[0;34m(\u001b[0m\u001b[0;34m)\u001b[0m\u001b[0;34m\u001b[0m\u001b[0;34m\u001b[0m\u001b[0m\n\u001b[1;32m     59\u001b[0m     tensors = pywrap_tfe.TFE_Py_Execute(ctx._handle, device_name, op_name,\n\u001b[0;32m---> 60\u001b[0;31m                                         inputs, attrs, num_outputs)\n\u001b[0m\u001b[1;32m     61\u001b[0m   \u001b[0;32mexcept\u001b[0m \u001b[0mcore\u001b[0m\u001b[0;34m.\u001b[0m\u001b[0m_NotOkStatusException\u001b[0m \u001b[0;32mas\u001b[0m \u001b[0me\u001b[0m\u001b[0;34m:\u001b[0m\u001b[0;34m\u001b[0m\u001b[0;34m\u001b[0m\u001b[0m\n\u001b[1;32m     62\u001b[0m     \u001b[0;32mif\u001b[0m \u001b[0mname\u001b[0m \u001b[0;32mis\u001b[0m \u001b[0;32mnot\u001b[0m \u001b[0;32mNone\u001b[0m\u001b[0;34m:\u001b[0m\u001b[0;34m\u001b[0m\u001b[0;34m\u001b[0m\u001b[0m\n",
      "\u001b[0;31mKeyboardInterrupt\u001b[0m: "
     ]
    }
   ],
   "source": [
    "calculation_type = 'calibration'  # production  calibration\n",
    "nn_type = 'mlp'\n",
    "target_divisor = 10.0  # target E [-0.15, 0.45] so no need of activation function\n",
    "\n",
    "base_directory = \"./\"\n",
    "data_directory = base_directory + 'data/'\n",
    "\n",
    "results_directory_stub = base_directory + nn_type + '_fingerprints/'\n",
    "if not os.path.isdir(results_directory_stub):\n",
    "    os.mkdir(results_directory_stub)\n",
    "\n",
    "results_directory = results_directory_stub + 'results_' + nn_type + '_fingerprints/'\n",
    "if not os.path.isdir(results_directory):\n",
    "    os.mkdir(results_directory)\n",
    "\n",
    "models_directory = results_directory_stub + 'models_' + nn_type + '_fingerprints/'\n",
    "if not os.path.isdir(models_directory):\n",
    "    os.mkdir(models_directory)\n",
    "\n",
    "metric_type = 'mean_squared_error'\n",
    "type_of_loss = metric_type\n",
    "verbose = 0  #2\n",
    "epochs = 500 #200\n",
    "checkpoint_epochs_stop = 15\n",
    "learning_rate_epochs = 10\n",
    "\n",
    "cross_valid_folds = 3\n",
    "size_of_parameter_list = 1000\n",
    "error_threshold = 0.015\n",
    "max_time_minutes = 6*60\n",
    "number_of_models = 10\n",
    "\n",
    "if calculation_type == 'calibration':\n",
    "    print('\\n\\n*** starting calibration at',pd.Timestamp.now())\n",
    "    start_time_calibration = time.time()\n",
    "\n",
    "    # get data\n",
    "    ycalib = y #np.load(data_directory + 'y_calib.npy')/target_divisor   \n",
    "    xcalib = X #np.load(data_directory + 'x_calib_fingerprints_1d.npy')\n",
    "    length_of_input = xcalib[0].shape[0] # length_of_fingerprint_vector = 2048\n",
    "\n",
    "    try:\n",
    "        number_of_outputs = ycalib.shape[1]\n",
    "    except:\n",
    "        number_of_outputs = 1  # ycalib.shape[1]\n",
    "\n",
    "    # set up parameters (stochastic)\n",
    "    list_param_dict = parameters_mlp(size_of_parameter_list)\n",
    "    list_dict_results = []\n",
    "    counter = 0\n",
    "    # loop over parameters\n",
    "    for dictionary_parameter in list_param_dict:   \n",
    "\n",
    "        modelname = nn_type + '_fingerprints_' + str(counter)\n",
    "        counter = counter + 1\n",
    "\n",
    "        print('\\n\\n*** starting at',pd.Timestamp.now())\n",
    "        start_time_loop = time.time()            \n",
    "\n",
    "        model_nn = mlp_model_construction(dictionary_parameter, \n",
    "                                             number_of_outputs, length_of_input,\n",
    "                                             type_of_loss, metric_type) \n",
    "        print(dictionary_parameter)                     \n",
    "\n",
    "        dict_results = nn_cv(xcalib, ycalib, \n",
    "                            cross_valid_folds, metric_type,\n",
    "                            model_nn, model_nn, \n",
    "                            dictionary_parameter['batch_size'], epochs, \n",
    "                            checkpoint_epochs_stop, verbose,\n",
    "                            models_directory, modelname, error_threshold,\n",
    "                            learning_rate_epochs)\n",
    "\n",
    "        elapsed_time_minutes = (time.time() - start_time_loop)/60\n",
    "        print('*** elapsed time =',elapsed_time_minutes,' mins\\tcounter =',counter-1)\n",
    "\n",
    "        # add epochs and modelname to param dict and save it\n",
    "        if len(dict_results) > 0:\n",
    "            dictionary_parameter.update(dict_results)\n",
    "            list_dict_results.append(dictionary_parameter)\n",
    "\n",
    "        # check elapsed time for early stopping\n",
    "        elapsed_time_minutes = (time.time() - start_time_calibration)/60\n",
    "        if elapsed_time_minutes > max_time_minutes:\n",
    "            break\n",
    "\n",
    "    print('\\n\\n*** ending calibation at',pd.Timestamp.now())\n",
    "    print('elapsed time =',(time.time()-start_time_calibration)/60,' min')\n",
    "\n",
    "    # collect results in a df, then save\n",
    "    df_param_results = pd.DataFrame(data=list_dict_results)\n",
    "    df_param_results.to_pickle(models_directory + 'df_parameter_results.pkl')\n",
    "    df_param_results.to_csv(models_directory + 'df_parameter_results.csv')\n",
    "    list_dict_results.clear()\n",
    "\n",
    "elif calculation_type == 'production':\n",
    "\n",
    "    # get data\n",
    "    yprod = np.load(data_directory + 'y_prod.npy')  # UNALTERED (SEE CREATE_ENSEMBLE)\n",
    "    xprod = np.load(data_directory + 'x_prod_fingerprints_1d.npy')\n",
    "    length_of_input = xprod[0].shape[0] # length_of_fingerprint_vector = 2048\n",
    "\n",
    "    df_results = pd.read_pickle(models_directory + 'df_parameter_results.pkl')\n",
    "\n",
    "    neural_network_ensemble.create_ensemble('regression', \n",
    "                   'Mean CV Error', 'Keras', \n",
    "                   df_results, number_of_models, models_directory, \n",
    "                   results_directory, xprod, yprod, target_divisor)\n",
    "\n",
    "else:\n",
    "    raise NameError"
   ]
  },
  {
   "cell_type": "code",
   "execution_count": 48,
   "metadata": {},
   "outputs": [
    {
     "name": "stdout",
     "output_type": "stream",
     "text": [
      "Dockerfile          \u001b[1m\u001b[36mcnn_1d_fingerprints\u001b[m\u001b[m \u001b[1m\u001b[36mmlp_fingerprints\u001b[m\u001b[m\n",
      "README.md           \u001b[1m\u001b[36mdata\u001b[m\u001b[m                package-lock.json\n",
      "Untitled.ipynb      description.pdf     \u001b[1m\u001b[36msrc\u001b[m\u001b[m\n"
     ]
    }
   ],
   "source": [
    "!ls"
   ]
  },
  {
   "cell_type": "code",
   "execution_count": 43,
   "metadata": {},
   "outputs": [
    {
     "name": "stdout",
     "output_type": "stream",
     "text": [
      "\n",
      "\n",
      "*** starting calibration at 2020-11-10 11:51:22.915949\n",
      "\n",
      "\n",
      "*** starting at 2020-11-10 11:51:22.940289\n",
      "{'layer_1_nodes_num': 128, 'kernel_size': 5, 'filters': 32, 'dropout': 0.15000000000000002, 'blocks': 3, 'batch_size': 64, 'activation': 'elu'}\n"
     ]
    },
    {
     "ename": "InvalidArgumentError",
     "evalue": " Conv2DCustomBackpropInputOp only supports NHWC.\n\t [[node gradient_tape/functional_1/conv1d_2/conv1d/Conv2DBackpropInput (defined at <ipython-input-40-c6c967cfeb20>:26) ]] [Op:__inference_train_function_32629]\n\nFunction call stack:\ntrain_function\n",
     "output_type": "error",
     "traceback": [
      "\u001b[0;31m---------------------------------------------------------------------------\u001b[0m",
      "\u001b[0;31mInvalidArgumentError\u001b[0m                      Traceback (most recent call last)",
      "\u001b[0;32m<ipython-input-43-7636f7b32c12>\u001b[0m in \u001b[0;36m<module>\u001b[0;34m\u001b[0m\n\u001b[1;32m     74\u001b[0m                                 \u001b[0mcheckpoint_epochs_stop\u001b[0m\u001b[0;34m,\u001b[0m \u001b[0mverbose\u001b[0m\u001b[0;34m,\u001b[0m\u001b[0;34m\u001b[0m\u001b[0;34m\u001b[0m\u001b[0m\n\u001b[1;32m     75\u001b[0m                                 \u001b[0mmodels_directory\u001b[0m\u001b[0;34m,\u001b[0m \u001b[0mmodelname\u001b[0m\u001b[0;34m,\u001b[0m \u001b[0merror_threshold\u001b[0m\u001b[0;34m,\u001b[0m\u001b[0;34m\u001b[0m\u001b[0;34m\u001b[0m\u001b[0m\n\u001b[0;32m---> 76\u001b[0;31m                                 learning_rate_epochs)\n\u001b[0m\u001b[1;32m     77\u001b[0m \u001b[0;34m\u001b[0m\u001b[0m\n\u001b[1;32m     78\u001b[0m         \u001b[0melapsed_time_minutes\u001b[0m \u001b[0;34m=\u001b[0m \u001b[0;34m(\u001b[0m\u001b[0mtime\u001b[0m\u001b[0;34m.\u001b[0m\u001b[0mtime\u001b[0m\u001b[0;34m(\u001b[0m\u001b[0;34m)\u001b[0m \u001b[0;34m-\u001b[0m \u001b[0mstart_time_loop\u001b[0m\u001b[0;34m)\u001b[0m\u001b[0;34m/\u001b[0m\u001b[0;36m60\u001b[0m\u001b[0;34m\u001b[0m\u001b[0;34m\u001b[0m\u001b[0m\n",
      "\u001b[0;32m<ipython-input-40-c6c967cfeb20>\u001b[0m in \u001b[0;36mnn_cv\u001b[0;34m(x_calib, y_calib, cv_folds, metric, nn_model, nn_model_copy, batchsize, num_epochs, stop_epochs, verbosity, models_dir, model_name, threshold, learn_rate_epochs)\u001b[0m\n\u001b[1;32m     24\u001b[0m         h = nn_model.fit(x_train, y_train, epochs=num_epochs, \n\u001b[1;32m     25\u001b[0m                          \u001b[0mbatch_size\u001b[0m\u001b[0;34m=\u001b[0m\u001b[0mbatchsize\u001b[0m\u001b[0;34m,\u001b[0m \u001b[0mvalidation_data\u001b[0m\u001b[0;34m=\u001b[0m\u001b[0;34m(\u001b[0m\u001b[0mx_valid\u001b[0m\u001b[0;34m,\u001b[0m \u001b[0my_valid\u001b[0m\u001b[0;34m)\u001b[0m\u001b[0;34m,\u001b[0m\u001b[0;34m\u001b[0m\u001b[0;34m\u001b[0m\u001b[0m\n\u001b[0;32m---> 26\u001b[0;31m                          callbacks=callbacks_list, verbose=verbosity)\n\u001b[0m\u001b[1;32m     27\u001b[0m \u001b[0;34m\u001b[0m\u001b[0m\n\u001b[1;32m     28\u001b[0m         \u001b[0;31m# collect cv stats\u001b[0m\u001b[0;34m\u001b[0m\u001b[0;34m\u001b[0m\u001b[0;34m\u001b[0m\u001b[0m\n",
      "\u001b[0;32m/anaconda3/envs/servier/lib/python3.6/site-packages/tensorflow/python/keras/engine/training.py\u001b[0m in \u001b[0;36m_method_wrapper\u001b[0;34m(self, *args, **kwargs)\u001b[0m\n\u001b[1;32m    106\u001b[0m   \u001b[0;32mdef\u001b[0m \u001b[0m_method_wrapper\u001b[0m\u001b[0;34m(\u001b[0m\u001b[0mself\u001b[0m\u001b[0;34m,\u001b[0m \u001b[0;34m*\u001b[0m\u001b[0margs\u001b[0m\u001b[0;34m,\u001b[0m \u001b[0;34m**\u001b[0m\u001b[0mkwargs\u001b[0m\u001b[0;34m)\u001b[0m\u001b[0;34m:\u001b[0m\u001b[0;34m\u001b[0m\u001b[0;34m\u001b[0m\u001b[0m\n\u001b[1;32m    107\u001b[0m     \u001b[0;32mif\u001b[0m \u001b[0;32mnot\u001b[0m \u001b[0mself\u001b[0m\u001b[0;34m.\u001b[0m\u001b[0m_in_multi_worker_mode\u001b[0m\u001b[0;34m(\u001b[0m\u001b[0;34m)\u001b[0m\u001b[0;34m:\u001b[0m  \u001b[0;31m# pylint: disable=protected-access\u001b[0m\u001b[0;34m\u001b[0m\u001b[0;34m\u001b[0m\u001b[0m\n\u001b[0;32m--> 108\u001b[0;31m       \u001b[0;32mreturn\u001b[0m \u001b[0mmethod\u001b[0m\u001b[0;34m(\u001b[0m\u001b[0mself\u001b[0m\u001b[0;34m,\u001b[0m \u001b[0;34m*\u001b[0m\u001b[0margs\u001b[0m\u001b[0;34m,\u001b[0m \u001b[0;34m**\u001b[0m\u001b[0mkwargs\u001b[0m\u001b[0;34m)\u001b[0m\u001b[0;34m\u001b[0m\u001b[0;34m\u001b[0m\u001b[0m\n\u001b[0m\u001b[1;32m    109\u001b[0m \u001b[0;34m\u001b[0m\u001b[0m\n\u001b[1;32m    110\u001b[0m     \u001b[0;31m# Running inside `run_distribute_coordinator` already.\u001b[0m\u001b[0;34m\u001b[0m\u001b[0;34m\u001b[0m\u001b[0;34m\u001b[0m\u001b[0m\n",
      "\u001b[0;32m/anaconda3/envs/servier/lib/python3.6/site-packages/tensorflow/python/keras/engine/training.py\u001b[0m in \u001b[0;36mfit\u001b[0;34m(self, x, y, batch_size, epochs, verbose, callbacks, validation_split, validation_data, shuffle, class_weight, sample_weight, initial_epoch, steps_per_epoch, validation_steps, validation_batch_size, validation_freq, max_queue_size, workers, use_multiprocessing)\u001b[0m\n\u001b[1;32m   1096\u001b[0m                 batch_size=batch_size):\n\u001b[1;32m   1097\u001b[0m               \u001b[0mcallbacks\u001b[0m\u001b[0;34m.\u001b[0m\u001b[0mon_train_batch_begin\u001b[0m\u001b[0;34m(\u001b[0m\u001b[0mstep\u001b[0m\u001b[0;34m)\u001b[0m\u001b[0;34m\u001b[0m\u001b[0;34m\u001b[0m\u001b[0m\n\u001b[0;32m-> 1098\u001b[0;31m               \u001b[0mtmp_logs\u001b[0m \u001b[0;34m=\u001b[0m \u001b[0mtrain_function\u001b[0m\u001b[0;34m(\u001b[0m\u001b[0miterator\u001b[0m\u001b[0;34m)\u001b[0m\u001b[0;34m\u001b[0m\u001b[0;34m\u001b[0m\u001b[0m\n\u001b[0m\u001b[1;32m   1099\u001b[0m               \u001b[0;32mif\u001b[0m \u001b[0mdata_handler\u001b[0m\u001b[0;34m.\u001b[0m\u001b[0mshould_sync\u001b[0m\u001b[0;34m:\u001b[0m\u001b[0;34m\u001b[0m\u001b[0;34m\u001b[0m\u001b[0m\n\u001b[1;32m   1100\u001b[0m                 \u001b[0mcontext\u001b[0m\u001b[0;34m.\u001b[0m\u001b[0masync_wait\u001b[0m\u001b[0;34m(\u001b[0m\u001b[0;34m)\u001b[0m\u001b[0;34m\u001b[0m\u001b[0;34m\u001b[0m\u001b[0m\n",
      "\u001b[0;32m/anaconda3/envs/servier/lib/python3.6/site-packages/tensorflow/python/eager/def_function.py\u001b[0m in \u001b[0;36m__call__\u001b[0;34m(self, *args, **kwds)\u001b[0m\n\u001b[1;32m    778\u001b[0m       \u001b[0;32melse\u001b[0m\u001b[0;34m:\u001b[0m\u001b[0;34m\u001b[0m\u001b[0;34m\u001b[0m\u001b[0m\n\u001b[1;32m    779\u001b[0m         \u001b[0mcompiler\u001b[0m \u001b[0;34m=\u001b[0m \u001b[0;34m\"nonXla\"\u001b[0m\u001b[0;34m\u001b[0m\u001b[0;34m\u001b[0m\u001b[0m\n\u001b[0;32m--> 780\u001b[0;31m         \u001b[0mresult\u001b[0m \u001b[0;34m=\u001b[0m \u001b[0mself\u001b[0m\u001b[0;34m.\u001b[0m\u001b[0m_call\u001b[0m\u001b[0;34m(\u001b[0m\u001b[0;34m*\u001b[0m\u001b[0margs\u001b[0m\u001b[0;34m,\u001b[0m \u001b[0;34m**\u001b[0m\u001b[0mkwds\u001b[0m\u001b[0;34m)\u001b[0m\u001b[0;34m\u001b[0m\u001b[0;34m\u001b[0m\u001b[0m\n\u001b[0m\u001b[1;32m    781\u001b[0m \u001b[0;34m\u001b[0m\u001b[0m\n\u001b[1;32m    782\u001b[0m       \u001b[0mnew_tracing_count\u001b[0m \u001b[0;34m=\u001b[0m \u001b[0mself\u001b[0m\u001b[0;34m.\u001b[0m\u001b[0m_get_tracing_count\u001b[0m\u001b[0;34m(\u001b[0m\u001b[0;34m)\u001b[0m\u001b[0;34m\u001b[0m\u001b[0;34m\u001b[0m\u001b[0m\n",
      "\u001b[0;32m/anaconda3/envs/servier/lib/python3.6/site-packages/tensorflow/python/eager/def_function.py\u001b[0m in \u001b[0;36m_call\u001b[0;34m(self, *args, **kwds)\u001b[0m\n\u001b[1;32m    838\u001b[0m         \u001b[0;31m# Lifting succeeded, so variables are initialized and we can run the\u001b[0m\u001b[0;34m\u001b[0m\u001b[0;34m\u001b[0m\u001b[0;34m\u001b[0m\u001b[0m\n\u001b[1;32m    839\u001b[0m         \u001b[0;31m# stateless function.\u001b[0m\u001b[0;34m\u001b[0m\u001b[0;34m\u001b[0m\u001b[0;34m\u001b[0m\u001b[0m\n\u001b[0;32m--> 840\u001b[0;31m         \u001b[0;32mreturn\u001b[0m \u001b[0mself\u001b[0m\u001b[0;34m.\u001b[0m\u001b[0m_stateless_fn\u001b[0m\u001b[0;34m(\u001b[0m\u001b[0;34m*\u001b[0m\u001b[0margs\u001b[0m\u001b[0;34m,\u001b[0m \u001b[0;34m**\u001b[0m\u001b[0mkwds\u001b[0m\u001b[0;34m)\u001b[0m\u001b[0;34m\u001b[0m\u001b[0;34m\u001b[0m\u001b[0m\n\u001b[0m\u001b[1;32m    841\u001b[0m     \u001b[0;32melse\u001b[0m\u001b[0;34m:\u001b[0m\u001b[0;34m\u001b[0m\u001b[0;34m\u001b[0m\u001b[0m\n\u001b[1;32m    842\u001b[0m       \u001b[0mcanon_args\u001b[0m\u001b[0;34m,\u001b[0m \u001b[0mcanon_kwds\u001b[0m \u001b[0;34m=\u001b[0m\u001b[0;31m \u001b[0m\u001b[0;31m\\\u001b[0m\u001b[0;34m\u001b[0m\u001b[0;34m\u001b[0m\u001b[0m\n",
      "\u001b[0;32m/anaconda3/envs/servier/lib/python3.6/site-packages/tensorflow/python/eager/function.py\u001b[0m in \u001b[0;36m__call__\u001b[0;34m(self, *args, **kwargs)\u001b[0m\n\u001b[1;32m   2827\u001b[0m     \u001b[0;32mwith\u001b[0m \u001b[0mself\u001b[0m\u001b[0;34m.\u001b[0m\u001b[0m_lock\u001b[0m\u001b[0;34m:\u001b[0m\u001b[0;34m\u001b[0m\u001b[0;34m\u001b[0m\u001b[0m\n\u001b[1;32m   2828\u001b[0m       \u001b[0mgraph_function\u001b[0m\u001b[0;34m,\u001b[0m \u001b[0margs\u001b[0m\u001b[0;34m,\u001b[0m \u001b[0mkwargs\u001b[0m \u001b[0;34m=\u001b[0m \u001b[0mself\u001b[0m\u001b[0;34m.\u001b[0m\u001b[0m_maybe_define_function\u001b[0m\u001b[0;34m(\u001b[0m\u001b[0margs\u001b[0m\u001b[0;34m,\u001b[0m \u001b[0mkwargs\u001b[0m\u001b[0;34m)\u001b[0m\u001b[0;34m\u001b[0m\u001b[0;34m\u001b[0m\u001b[0m\n\u001b[0;32m-> 2829\u001b[0;31m     \u001b[0;32mreturn\u001b[0m \u001b[0mgraph_function\u001b[0m\u001b[0;34m.\u001b[0m\u001b[0m_filtered_call\u001b[0m\u001b[0;34m(\u001b[0m\u001b[0margs\u001b[0m\u001b[0;34m,\u001b[0m \u001b[0mkwargs\u001b[0m\u001b[0;34m)\u001b[0m  \u001b[0;31m# pylint: disable=protected-access\u001b[0m\u001b[0;34m\u001b[0m\u001b[0;34m\u001b[0m\u001b[0m\n\u001b[0m\u001b[1;32m   2830\u001b[0m \u001b[0;34m\u001b[0m\u001b[0m\n\u001b[1;32m   2831\u001b[0m   \u001b[0;34m@\u001b[0m\u001b[0mproperty\u001b[0m\u001b[0;34m\u001b[0m\u001b[0;34m\u001b[0m\u001b[0m\n",
      "\u001b[0;32m/anaconda3/envs/servier/lib/python3.6/site-packages/tensorflow/python/eager/function.py\u001b[0m in \u001b[0;36m_filtered_call\u001b[0;34m(self, args, kwargs, cancellation_manager)\u001b[0m\n\u001b[1;32m   1846\u001b[0m                            resource_variable_ops.BaseResourceVariable))],\n\u001b[1;32m   1847\u001b[0m         \u001b[0mcaptured_inputs\u001b[0m\u001b[0;34m=\u001b[0m\u001b[0mself\u001b[0m\u001b[0;34m.\u001b[0m\u001b[0mcaptured_inputs\u001b[0m\u001b[0;34m,\u001b[0m\u001b[0;34m\u001b[0m\u001b[0;34m\u001b[0m\u001b[0m\n\u001b[0;32m-> 1848\u001b[0;31m         cancellation_manager=cancellation_manager)\n\u001b[0m\u001b[1;32m   1849\u001b[0m \u001b[0;34m\u001b[0m\u001b[0m\n\u001b[1;32m   1850\u001b[0m   \u001b[0;32mdef\u001b[0m \u001b[0m_call_flat\u001b[0m\u001b[0;34m(\u001b[0m\u001b[0mself\u001b[0m\u001b[0;34m,\u001b[0m \u001b[0margs\u001b[0m\u001b[0;34m,\u001b[0m \u001b[0mcaptured_inputs\u001b[0m\u001b[0;34m,\u001b[0m \u001b[0mcancellation_manager\u001b[0m\u001b[0;34m=\u001b[0m\u001b[0;32mNone\u001b[0m\u001b[0;34m)\u001b[0m\u001b[0;34m:\u001b[0m\u001b[0;34m\u001b[0m\u001b[0;34m\u001b[0m\u001b[0m\n",
      "\u001b[0;32m/anaconda3/envs/servier/lib/python3.6/site-packages/tensorflow/python/eager/function.py\u001b[0m in \u001b[0;36m_call_flat\u001b[0;34m(self, args, captured_inputs, cancellation_manager)\u001b[0m\n\u001b[1;32m   1922\u001b[0m       \u001b[0;31m# No tape is watching; skip to running the function.\u001b[0m\u001b[0;34m\u001b[0m\u001b[0;34m\u001b[0m\u001b[0;34m\u001b[0m\u001b[0m\n\u001b[1;32m   1923\u001b[0m       return self._build_call_outputs(self._inference_function.call(\n\u001b[0;32m-> 1924\u001b[0;31m           ctx, args, cancellation_manager=cancellation_manager))\n\u001b[0m\u001b[1;32m   1925\u001b[0m     forward_backward = self._select_forward_and_backward_functions(\n\u001b[1;32m   1926\u001b[0m         \u001b[0margs\u001b[0m\u001b[0;34m,\u001b[0m\u001b[0;34m\u001b[0m\u001b[0;34m\u001b[0m\u001b[0m\n",
      "\u001b[0;32m/anaconda3/envs/servier/lib/python3.6/site-packages/tensorflow/python/eager/function.py\u001b[0m in \u001b[0;36mcall\u001b[0;34m(self, ctx, args, cancellation_manager)\u001b[0m\n\u001b[1;32m    548\u001b[0m               \u001b[0minputs\u001b[0m\u001b[0;34m=\u001b[0m\u001b[0margs\u001b[0m\u001b[0;34m,\u001b[0m\u001b[0;34m\u001b[0m\u001b[0;34m\u001b[0m\u001b[0m\n\u001b[1;32m    549\u001b[0m               \u001b[0mattrs\u001b[0m\u001b[0;34m=\u001b[0m\u001b[0mattrs\u001b[0m\u001b[0;34m,\u001b[0m\u001b[0;34m\u001b[0m\u001b[0;34m\u001b[0m\u001b[0m\n\u001b[0;32m--> 550\u001b[0;31m               ctx=ctx)\n\u001b[0m\u001b[1;32m    551\u001b[0m         \u001b[0;32melse\u001b[0m\u001b[0;34m:\u001b[0m\u001b[0;34m\u001b[0m\u001b[0;34m\u001b[0m\u001b[0m\n\u001b[1;32m    552\u001b[0m           outputs = execute.execute_with_cancellation(\n",
      "\u001b[0;32m/anaconda3/envs/servier/lib/python3.6/site-packages/tensorflow/python/eager/execute.py\u001b[0m in \u001b[0;36mquick_execute\u001b[0;34m(op_name, num_outputs, inputs, attrs, ctx, name)\u001b[0m\n\u001b[1;32m     58\u001b[0m     \u001b[0mctx\u001b[0m\u001b[0;34m.\u001b[0m\u001b[0mensure_initialized\u001b[0m\u001b[0;34m(\u001b[0m\u001b[0;34m)\u001b[0m\u001b[0;34m\u001b[0m\u001b[0;34m\u001b[0m\u001b[0m\n\u001b[1;32m     59\u001b[0m     tensors = pywrap_tfe.TFE_Py_Execute(ctx._handle, device_name, op_name,\n\u001b[0;32m---> 60\u001b[0;31m                                         inputs, attrs, num_outputs)\n\u001b[0m\u001b[1;32m     61\u001b[0m   \u001b[0;32mexcept\u001b[0m \u001b[0mcore\u001b[0m\u001b[0;34m.\u001b[0m\u001b[0m_NotOkStatusException\u001b[0m \u001b[0;32mas\u001b[0m \u001b[0me\u001b[0m\u001b[0;34m:\u001b[0m\u001b[0;34m\u001b[0m\u001b[0;34m\u001b[0m\u001b[0m\n\u001b[1;32m     62\u001b[0m     \u001b[0;32mif\u001b[0m \u001b[0mname\u001b[0m \u001b[0;32mis\u001b[0m \u001b[0;32mnot\u001b[0m \u001b[0;32mNone\u001b[0m\u001b[0;34m:\u001b[0m\u001b[0;34m\u001b[0m\u001b[0;34m\u001b[0m\u001b[0m\n",
      "\u001b[0;31mInvalidArgumentError\u001b[0m:  Conv2DCustomBackpropInputOp only supports NHWC.\n\t [[node gradient_tape/functional_1/conv1d_2/conv1d/Conv2DBackpropInput (defined at <ipython-input-40-c6c967cfeb20>:26) ]] [Op:__inference_train_function_32629]\n\nFunction call stack:\ntrain_function\n"
     ]
    }
   ],
   "source": [
    "calculation_type = 'calibration'  # production  calibration\n",
    "nn_type = 'cnn_1d'\n",
    "target_divisor = 10.0  # target E [-0.15, 0.45] so no need of activation function\n",
    "\n",
    "base_directory = \"./\"\n",
    "data_directory = base_directory + 'data/'\n",
    "\n",
    "results_directory_stub = base_directory + nn_type + '_fingerprints/'\n",
    "if not os.path.isdir(results_directory_stub):\n",
    "    os.mkdir(results_directory_stub)\n",
    "\n",
    "results_directory = results_directory_stub + 'results_' + nn_type + '_fingerprints/'\n",
    "if not os.path.isdir(results_directory):\n",
    "    os.mkdir(results_directory)\n",
    "\n",
    "models_directory = results_directory_stub + 'models_' + nn_type + '_fingerprints/'\n",
    "if not os.path.isdir(models_directory):\n",
    "    os.mkdir(models_directory)\n",
    "\n",
    "# limits and params\n",
    "metric_type = 'mean_squared_error'\n",
    "type_of_loss = metric_type\n",
    "verbose = 0\n",
    "epochs = 200\n",
    "checkpoint_epochs_stop = 15\n",
    "learning_rate_epochs = 10\n",
    "\n",
    "cross_valid_folds = 3\n",
    "size_of_parameter_list = 1000\n",
    "error_threshold = 10.0\n",
    "max_time_minutes = 6*60\n",
    "number_of_models = 10\n",
    "\n",
    "if calculation_type == 'calibration':\n",
    "    print('\\n\\n*** starting calibration at',pd.Timestamp.now())\n",
    "    start_time_calibration = time.time()\n",
    "\n",
    "    # get data\n",
    "    ycalib = y # np.load(data_directory + 'y_calib.npy')/target_divisor   \n",
    "    xcalib = X # np.load(data_directory + 'x_calib_fingerprints_1d.npy')\n",
    "\n",
    "    try:\n",
    "        number_of_outputs = ycalib.shape[1]\n",
    "    except:\n",
    "        number_of_outputs = 1  # ycalib.shape[1]\n",
    "\n",
    "    # reshape data\n",
    "    num_pts = xcalib.shape[0]\n",
    "    length_of_input = xcalib[0].shape[0] # length_of_fingerprint_vector = 2048\n",
    "    xcalib = xcalib.reshape(num_pts, 1, length_of_input)\n",
    "\n",
    "    # set up parameters (stochastic)\n",
    "    list_param_dict = parameters_cnn(size_of_parameter_list)\n",
    "    list_dict_results = []\n",
    "    counter = 0\n",
    "    # loop over parameters\n",
    "    for dictionary_parameter in list_param_dict:   \n",
    "\n",
    "        modelname = nn_type + '_fingerprints_' + str(counter)\n",
    "        counter = counter + 1\n",
    "\n",
    "        print('\\n\\n*** starting at',pd.Timestamp.now())\n",
    "        start_time_loop = time.time()            \n",
    "\n",
    "        model_nn = cnn_1d_model_construction(dictionary_parameter, \n",
    "                                             number_of_outputs, length_of_input,\n",
    "                                             type_of_loss, metric_type) \n",
    "        print(dictionary_parameter)                     \n",
    "\n",
    "        dict_results = nn_cv(xcalib, ycalib, \n",
    "                                cross_valid_folds, metric_type,\n",
    "                                model_nn, model_nn, \n",
    "                                dictionary_parameter['batch_size'], epochs, \n",
    "                                checkpoint_epochs_stop, verbose,\n",
    "                                models_directory, modelname, error_threshold,\n",
    "                                learning_rate_epochs)\n",
    "\n",
    "        elapsed_time_minutes = (time.time() - start_time_loop)/60\n",
    "        print('*** elapsed time =',elapsed_time_minutes,' mins\\tcounter =',counter-1)\n",
    "\n",
    "        # add epochs and modelname to param dict and save it\n",
    "        if len(dict_results) > 0:\n",
    "            dictionary_parameter.update(dict_results)\n",
    "            list_dict_results.append(dictionary_parameter)\n",
    "\n",
    "        # check elapsed time for early stopping\n",
    "        elapsed_time_minutes = (time.time() - start_time_calibration)/60\n",
    "        if elapsed_time_minutes > max_time_minutes:\n",
    "            break\n",
    "\n",
    "    print('\\n\\n*** ending calibation at',pd.Timestamp.now())\n",
    "    print('elapsed time =',(time.time()-start_time_calibration)/60,' min')\n",
    "\n",
    "    # collect results in a df, then save\n",
    "    df_param_results = pd.DataFrame(data=list_dict_results)\n",
    "    df_param_results.to_pickle(models_directory + 'df_parameter_results.pkl')\n",
    "    df_param_results.to_csv(models_directory + 'df_parameter_results.csv')\n",
    "    list_dict_results.clear()"
   ]
  },
  {
   "cell_type": "markdown",
   "metadata": {},
   "source": [
    "### Deepchem"
   ]
  },
  {
   "cell_type": "code",
   "execution_count": 24,
   "metadata": {},
   "outputs": [
    {
     "name": "stderr",
     "output_type": "stream",
     "text": [
      "smiles_field is deprecated and will be removed in a future version of DeepChem.Use feature_field instead.\n"
     ]
    }
   ],
   "source": [
    "import deepchem\n",
    "# Loading the data from the CSV file\n",
    "loader = deepchem.data.CSVLoader(tasks=[\"P1\"], \n",
    "                                 smiles_field=\"smiles\", \n",
    "                                 featurizer=deepchem.feat.ConvMolFeaturizer())\n",
    "\n",
    "# Featurizing the dataset with ConvMolFeaturizer\n",
    "dataset_file = \"data/dataset_single.csv\"\n",
    "dataset = loader.featurize(dataset_file)\n",
    "#graph_conv.fit(X, nb_epoch=10)"
   ]
  },
  {
   "cell_type": "code",
   "execution_count": 18,
   "metadata": {},
   "outputs": [],
   "source": [
    "# Splitter splits the dataset \n",
    "# In this case it's is an equivalent of train_test_split from sklearn\n",
    "splitter = deepchem.splits.RandomSplitter()\n",
    "\n",
    "# frac_test is 0.01 because we only use a train and valid as an example\n",
    "train, valid, _ = splitter.train_valid_test_split(dataset,\n",
    "                                                  frac_train=0.7,\n",
    "                                                  frac_valid=0.29,\n",
    "                                                  frac_test=0.01)\n",
    "# Normalizer will normalize y values in the dataset\n",
    "normalizer = deepchem.trans.NormalizationTransformer(transform_y=True, \n",
    "                                                     dataset=train, \n",
    "                                                     move_mean=True)\n",
    "train = normalizer.transform(train)\n",
    "test = normalizer.transform(valid)"
   ]
  },
  {
   "cell_type": "code",
   "execution_count": 19,
   "metadata": {},
   "outputs": [],
   "source": [
    "from deepchem.models import GraphConvModel\n",
    "graph_conv = GraphConvModel(1,\n",
    "                            batch_size=50,\n",
    "                            mode=\"classification\")\n",
    "# Defining metric. Closer to 1 is better\n",
    "metric = deepchem.metrics.Metric(deepchem.metrics.accuracy_score)"
   ]
  },
  {
   "cell_type": "code",
   "execution_count": 20,
   "metadata": {},
   "outputs": [
    {
     "name": "stderr",
     "output_type": "stream",
     "text": [
      "/anaconda3/envs/servier/lib/python3.6/site-packages/tensorflow/python/framework/indexed_slices.py:433: UserWarning: Converting sparse IndexedSlices to a dense Tensor of unknown shape. This may consume a large amount of memory.\n",
      "  \"Converting sparse IndexedSlices to a dense Tensor of unknown shape. \"\n"
     ]
    },
    {
     "data": {
      "text/plain": [
       "0.0002919047884643078"
      ]
     },
     "execution_count": 20,
     "metadata": {},
     "output_type": "execute_result"
    }
   ],
   "source": [
    "# Fitting the model\n",
    "graph_conv.fit(train, nb_epoch=10)"
   ]
  },
  {
   "cell_type": "code",
   "execution_count": 21,
   "metadata": {},
   "outputs": [
    {
     "ename": "ValueError",
     "evalue": "y must be a class probability matrix with rows summing to 1.",
     "output_type": "error",
     "traceback": [
      "\u001b[0;31m---------------------------------------------------------------------------\u001b[0m",
      "\u001b[0;31mValueError\u001b[0m                                Traceback (most recent call last)",
      "\u001b[0;32m<ipython-input-21-90e608323c99>\u001b[0m in \u001b[0;36m<module>\u001b[0;34m\u001b[0m\n\u001b[1;32m      1\u001b[0m \u001b[0;31m# Reversing the transformation and getting the metric scores on 2 datasets\u001b[0m\u001b[0;34m\u001b[0m\u001b[0;34m\u001b[0m\u001b[0;34m\u001b[0m\u001b[0m\n\u001b[0;32m----> 2\u001b[0;31m \u001b[0mtrain_scores\u001b[0m \u001b[0;34m=\u001b[0m \u001b[0mgraph_conv\u001b[0m\u001b[0;34m.\u001b[0m\u001b[0mevaluate\u001b[0m\u001b[0;34m(\u001b[0m\u001b[0mtrain\u001b[0m\u001b[0;34m,\u001b[0m \u001b[0;34m[\u001b[0m\u001b[0mmetric\u001b[0m\u001b[0;34m]\u001b[0m\u001b[0;34m,\u001b[0m \u001b[0;34m[\u001b[0m\u001b[0mnormalizer\u001b[0m\u001b[0;34m]\u001b[0m\u001b[0;34m)\u001b[0m\u001b[0;34m\u001b[0m\u001b[0;34m\u001b[0m\u001b[0m\n\u001b[0m\u001b[1;32m      3\u001b[0m \u001b[0mvalid_scores\u001b[0m \u001b[0;34m=\u001b[0m \u001b[0mgraph_conv\u001b[0m\u001b[0;34m.\u001b[0m\u001b[0mevaluate\u001b[0m\u001b[0;34m(\u001b[0m\u001b[0mvalid\u001b[0m\u001b[0;34m,\u001b[0m \u001b[0;34m[\u001b[0m\u001b[0mmetric\u001b[0m\u001b[0;34m]\u001b[0m\u001b[0;34m,\u001b[0m \u001b[0;34m[\u001b[0m\u001b[0mnormalizer\u001b[0m\u001b[0;34m]\u001b[0m\u001b[0;34m)\u001b[0m\u001b[0;34m\u001b[0m\u001b[0;34m\u001b[0m\u001b[0m\n",
      "\u001b[0;32m/anaconda3/envs/servier/lib/python3.6/site-packages/deepchem/models/models.py\u001b[0m in \u001b[0;36mevaluate\u001b[0;34m(self, dataset, metrics, transformers, per_task_metrics, use_sample_weights, n_classes)\u001b[0m\n\u001b[1;32m    217\u001b[0m         \u001b[0mper_task_metrics\u001b[0m\u001b[0;34m=\u001b[0m\u001b[0mper_task_metrics\u001b[0m\u001b[0;34m,\u001b[0m\u001b[0;34m\u001b[0m\u001b[0;34m\u001b[0m\u001b[0m\n\u001b[1;32m    218\u001b[0m         \u001b[0muse_sample_weights\u001b[0m\u001b[0;34m=\u001b[0m\u001b[0muse_sample_weights\u001b[0m\u001b[0;34m,\u001b[0m\u001b[0;34m\u001b[0m\u001b[0;34m\u001b[0m\u001b[0m\n\u001b[0;32m--> 219\u001b[0;31m         n_classes=n_classes)\n\u001b[0m\u001b[1;32m    220\u001b[0m \u001b[0;34m\u001b[0m\u001b[0m\n\u001b[1;32m    221\u001b[0m   \u001b[0;32mdef\u001b[0m \u001b[0mget_task_type\u001b[0m\u001b[0;34m(\u001b[0m\u001b[0mself\u001b[0m\u001b[0;34m)\u001b[0m \u001b[0;34m->\u001b[0m \u001b[0mstr\u001b[0m\u001b[0;34m:\u001b[0m\u001b[0;34m\u001b[0m\u001b[0;34m\u001b[0m\u001b[0m\n",
      "\u001b[0;32m/anaconda3/envs/servier/lib/python3.6/site-packages/deepchem/utils/evaluate.py\u001b[0m in \u001b[0;36mcompute_model_performance\u001b[0;34m(self, metrics, csv_out, stats_out, per_task_metrics, use_sample_weights, n_classes)\u001b[0m\n\u001b[1;32m    314\u001b[0m           \u001b[0mn_tasks\u001b[0m\u001b[0;34m=\u001b[0m\u001b[0mn_tasks\u001b[0m\u001b[0;34m,\u001b[0m\u001b[0;34m\u001b[0m\u001b[0;34m\u001b[0m\u001b[0m\n\u001b[1;32m    315\u001b[0m           \u001b[0mn_classes\u001b[0m\u001b[0;34m=\u001b[0m\u001b[0mn_classes\u001b[0m\u001b[0;34m,\u001b[0m\u001b[0;34m\u001b[0m\u001b[0;34m\u001b[0m\u001b[0m\n\u001b[0;32m--> 316\u001b[0;31m           use_sample_weights=use_sample_weights)\n\u001b[0m\u001b[1;32m    317\u001b[0m       \u001b[0;32mif\u001b[0m \u001b[0mper_task_metrics\u001b[0m\u001b[0;34m:\u001b[0m\u001b[0;34m\u001b[0m\u001b[0;34m\u001b[0m\u001b[0m\n\u001b[1;32m    318\u001b[0m         \u001b[0mmultitask_scores\u001b[0m\u001b[0;34m[\u001b[0m\u001b[0mmetric\u001b[0m\u001b[0;34m.\u001b[0m\u001b[0mname\u001b[0m\u001b[0;34m]\u001b[0m\u001b[0;34m,\u001b[0m \u001b[0mcomputed_metrics\u001b[0m \u001b[0;34m=\u001b[0m \u001b[0mresults\u001b[0m\u001b[0;34m\u001b[0m\u001b[0;34m\u001b[0m\u001b[0m\n",
      "\u001b[0;32m/anaconda3/envs/servier/lib/python3.6/site-packages/deepchem/metrics/metric.py\u001b[0m in \u001b[0;36mcompute_metric\u001b[0;34m(self, y_true, y_pred, w, n_tasks, n_classes, filter_nans, per_task_metrics, use_sample_weights, **kwargs)\u001b[0m\n\u001b[1;32m    640\u001b[0m           y_true, self.classification_handling_mode, self.threshold_value)\n\u001b[1;32m    641\u001b[0m       y_pred = handle_classification_mode(\n\u001b[0;32m--> 642\u001b[0;31m           y_pred, self.classification_handling_mode, self.threshold_value)\n\u001b[0m\u001b[1;32m    643\u001b[0m     \u001b[0mn_samples\u001b[0m \u001b[0;34m=\u001b[0m \u001b[0my_true\u001b[0m\u001b[0;34m.\u001b[0m\u001b[0mshape\u001b[0m\u001b[0;34m[\u001b[0m\u001b[0;36m0\u001b[0m\u001b[0;34m]\u001b[0m\u001b[0;34m\u001b[0m\u001b[0;34m\u001b[0m\u001b[0m\n\u001b[1;32m    644\u001b[0m     \u001b[0mw\u001b[0m \u001b[0;34m=\u001b[0m \u001b[0mnormalize_weight_shape\u001b[0m\u001b[0;34m(\u001b[0m\u001b[0mw\u001b[0m\u001b[0;34m,\u001b[0m \u001b[0mn_samples\u001b[0m\u001b[0;34m,\u001b[0m \u001b[0mn_tasks\u001b[0m\u001b[0;34m)\u001b[0m\u001b[0;34m\u001b[0m\u001b[0;34m\u001b[0m\u001b[0m\n",
      "\u001b[0;32m/anaconda3/envs/servier/lib/python3.6/site-packages/deepchem/metrics/metric.py\u001b[0m in \u001b[0;36mhandle_classification_mode\u001b[0;34m(y, classification_handling_mode, threshold_value)\u001b[0m\n\u001b[1;32m    360\u001b[0m       \u001b[0mtask_array\u001b[0m \u001b[0;34m=\u001b[0m \u001b[0my\u001b[0m\u001b[0;34m[\u001b[0m\u001b[0;34m:\u001b[0m\u001b[0;34m,\u001b[0m \u001b[0mtask\u001b[0m\u001b[0;34m,\u001b[0m \u001b[0;34m:\u001b[0m\u001b[0;34m]\u001b[0m\u001b[0;34m\u001b[0m\u001b[0;34m\u001b[0m\u001b[0m\n\u001b[1;32m    361\u001b[0m       \u001b[0;31m# Now of shape (N,)\u001b[0m\u001b[0;34m\u001b[0m\u001b[0;34m\u001b[0m\u001b[0;34m\u001b[0m\u001b[0m\n\u001b[0;32m--> 362\u001b[0;31m       \u001b[0mtask_array\u001b[0m \u001b[0;34m=\u001b[0m \u001b[0mthreshold_predictions\u001b[0m\u001b[0;34m(\u001b[0m\u001b[0mtask_array\u001b[0m\u001b[0;34m,\u001b[0m \u001b[0mthreshold_value\u001b[0m\u001b[0;34m)\u001b[0m\u001b[0;34m\u001b[0m\u001b[0;34m\u001b[0m\u001b[0m\n\u001b[0m\u001b[1;32m    363\u001b[0m       \u001b[0;31m# Now of shape (N, n_classes)\u001b[0m\u001b[0;34m\u001b[0m\u001b[0;34m\u001b[0m\u001b[0;34m\u001b[0m\u001b[0m\n\u001b[1;32m    364\u001b[0m       \u001b[0mtask_array\u001b[0m \u001b[0;34m=\u001b[0m \u001b[0mto_one_hot\u001b[0m\u001b[0;34m(\u001b[0m\u001b[0mtask_array\u001b[0m\u001b[0;34m,\u001b[0m \u001b[0mn_classes\u001b[0m\u001b[0;34m=\u001b[0m\u001b[0mn_classes\u001b[0m\u001b[0;34m)\u001b[0m\u001b[0;34m\u001b[0m\u001b[0;34m\u001b[0m\u001b[0m\n",
      "\u001b[0;32m/anaconda3/envs/servier/lib/python3.6/site-packages/deepchem/metrics/metric.py\u001b[0m in \u001b[0;36mthreshold_predictions\u001b[0;34m(y, threshold)\u001b[0m\n\u001b[1;32m     37\u001b[0m   \u001b[0;32mif\u001b[0m \u001b[0;32mnot\u001b[0m \u001b[0mnp\u001b[0m\u001b[0;34m.\u001b[0m\u001b[0mallclose\u001b[0m\u001b[0;34m(\u001b[0m\u001b[0mnp\u001b[0m\u001b[0;34m.\u001b[0m\u001b[0msum\u001b[0m\u001b[0;34m(\u001b[0m\u001b[0my\u001b[0m\u001b[0;34m,\u001b[0m \u001b[0maxis\u001b[0m\u001b[0;34m=\u001b[0m\u001b[0;36m1\u001b[0m\u001b[0;34m)\u001b[0m\u001b[0;34m,\u001b[0m \u001b[0mnp\u001b[0m\u001b[0;34m.\u001b[0m\u001b[0mones\u001b[0m\u001b[0;34m(\u001b[0m\u001b[0mN\u001b[0m\u001b[0;34m)\u001b[0m\u001b[0;34m)\u001b[0m\u001b[0;34m:\u001b[0m\u001b[0;34m\u001b[0m\u001b[0;34m\u001b[0m\u001b[0m\n\u001b[1;32m     38\u001b[0m     raise ValueError(\n\u001b[0;32m---> 39\u001b[0;31m         \"y must be a class probability matrix with rows summing to 1.\")\n\u001b[0m\u001b[1;32m     40\u001b[0m   \u001b[0;32mif\u001b[0m \u001b[0mn_classes\u001b[0m \u001b[0;34m!=\u001b[0m \u001b[0;36m2\u001b[0m\u001b[0;34m:\u001b[0m\u001b[0;34m\u001b[0m\u001b[0;34m\u001b[0m\u001b[0m\n\u001b[1;32m     41\u001b[0m     \u001b[0my_out\u001b[0m \u001b[0;34m=\u001b[0m \u001b[0mnp\u001b[0m\u001b[0;34m.\u001b[0m\u001b[0margmax\u001b[0m\u001b[0;34m(\u001b[0m\u001b[0my\u001b[0m\u001b[0;34m,\u001b[0m \u001b[0maxis\u001b[0m\u001b[0;34m=\u001b[0m\u001b[0;36m1\u001b[0m\u001b[0;34m)\u001b[0m\u001b[0;34m\u001b[0m\u001b[0;34m\u001b[0m\u001b[0m\n",
      "\u001b[0;31mValueError\u001b[0m: y must be a class probability matrix with rows summing to 1."
     ]
    }
   ],
   "source": [
    "# Reversing the transformation and getting the metric scores on 2 datasets\n",
    "train_scores = graph_conv.evaluate(train, [metric], [normalizer])\n",
    "valid_scores = graph_conv.evaluate(valid, [metric], [normalizer])"
   ]
  },
  {
   "cell_type": "code",
   "execution_count": 22,
   "metadata": {},
   "outputs": [
    {
     "ename": "NameError",
     "evalue": "name 'train_scores' is not defined",
     "output_type": "error",
     "traceback": [
      "\u001b[0;31m---------------------------------------------------------------------------\u001b[0m",
      "\u001b[0;31mNameError\u001b[0m                                 Traceback (most recent call last)",
      "\u001b[0;32m<ipython-input-22-e5fdcfdd14b0>\u001b[0m in \u001b[0;36m<module>\u001b[0;34m\u001b[0m\n\u001b[0;32m----> 1\u001b[0;31m \u001b[0mtrain_scores\u001b[0m\u001b[0;34m\u001b[0m\u001b[0;34m\u001b[0m\u001b[0m\n\u001b[0m",
      "\u001b[0;31mNameError\u001b[0m: name 'train_scores' is not defined"
     ]
    }
   ],
   "source": [
    "train_scores"
   ]
  },
  {
   "cell_type": "markdown",
   "metadata": {},
   "source": [
    "### Simple NN"
   ]
  },
  {
   "cell_type": "code",
   "execution_count": 48,
   "metadata": {},
   "outputs": [],
   "source": [
    "def create_model(model_type, num_words, input_length=2048, output_dim=1, dropout_rate=0.0):\n",
    "    \"\"\"Build different sequence model\n",
    "    :param model_type: str, can be 'cnn-gru', 'cnn', 'gru', 'lstm'\n",
    "    :param num_words: int\n",
    "    :param input_length: int\n",
    "    :param output_dim: int\n",
    "    :return model: Keras model\n",
    "    \"\"\" \n",
    "    \n",
    "    model = Sequential()\n",
    "    if model_type == 'lstm': # LSTM - LSTM\n",
    "        model.add(Embedding(num_words+1, 50, input_length=input_length))\n",
    "        model.add(Bidirectional(LSTM(128, return_sequences=True)))\n",
    "        model.add(Bidirectional(LSTM(128)))\n",
    "        model.add(Dense(128, activation='relu'))\n",
    "        model.add(Dropout(dropout_rate))\n",
    "        model.add(Dense(output_dim, activation='sigmoid'))\n",
    "    elif model_type == 'gru': # GRU - GRU\n",
    "        model.add(Embedding(num_words+1, 50, input_length=input_length))\n",
    "        model.add(Bidirectional(GRU(128, return_sequences=True)))\n",
    "        model.add(Bidirectional(GRU(128)))\n",
    "        model.add(Dense(128, activation='relu'))\n",
    "        model.add(Dropout(dropout_rate))\n",
    "        model.add(Dense(output_dim, activation='sigmoid'))\n",
    "    elif model_type == 'cnn-gru': # 1D CNN - GRU\n",
    "        model.add(Embedding(num_words+1, 50, input_length=input_length))\n",
    "        model.add(Conv1D(192,3,activation='relu'))\n",
    "        model.add(Bidirectional(GRU(224, return_sequences=True)))\n",
    "        model.add(Bidirectional(GRU(384)))\n",
    "        model.add(Dense(128, activation='relu'))\n",
    "        model.add(Dropout(dropout_rate))\n",
    "        model.add(Dense(output_dim, activation='sigmoid'))\n",
    "    elif model_type == 'cnn': # 1D CNN\n",
    "        model.add(Embedding(num_words+1, 50, input_length=input_length))\n",
    "        model.add(Conv1D(192, 10, activation='relu'))\n",
    "        model.add(BatchNormalization())\n",
    "        model.add(Conv1D(192, 3, activation='relu'))\n",
    "        model.add(Flatten())\n",
    "        model.add(Dense(128, activation='relu'))\n",
    "        model.add(Dropout(dropout_rate))\n",
    "        model.add(Dense(output_dim, activation='sigmoid'))\n",
    "    else:\n",
    "        raise ValueError(model_type + ' is not supported.')\n",
    " \n",
    "    model.summary()    \n",
    "    return model"
   ]
  },
  {
   "cell_type": "code",
   "execution_count": 75,
   "metadata": {},
   "outputs": [
    {
     "ename": "ValueError",
     "evalue": "Input 0 of layer conv2d_3 is incompatible with the layer: : expected min_ndim=4, found ndim=2. Full shape received: [None, 3]",
     "output_type": "error",
     "traceback": [
      "\u001b[0;31m---------------------------------------------------------------------------\u001b[0m",
      "\u001b[0;31mValueError\u001b[0m                                Traceback (most recent call last)",
      "\u001b[0;32m<ipython-input-75-69869a5ebad0>\u001b[0m in \u001b[0;36m<module>\u001b[0;34m\u001b[0m\n\u001b[1;32m      5\u001b[0m \u001b[0;31m#model.add(Activation(\"sigmoid\"))\u001b[0m\u001b[0;34m\u001b[0m\u001b[0;34m\u001b[0m\u001b[0;34m\u001b[0m\u001b[0m\n\u001b[1;32m      6\u001b[0m \u001b[0;34m\u001b[0m\u001b[0m\n\u001b[0;32m----> 7\u001b[0;31m \u001b[0mmodel\u001b[0m\u001b[0;34m.\u001b[0m\u001b[0madd\u001b[0m\u001b[0;34m(\u001b[0m\u001b[0mConv2D\u001b[0m\u001b[0;34m(\u001b[0m\u001b[0mfilters\u001b[0m\u001b[0;34m=\u001b[0m\u001b[0;36m32\u001b[0m\u001b[0;34m,\u001b[0m \u001b[0mkernel_size\u001b[0m\u001b[0;34m=\u001b[0m\u001b[0;34m(\u001b[0m\u001b[0;36m3\u001b[0m\u001b[0;34m,\u001b[0m \u001b[0;36m3\u001b[0m\u001b[0;34m)\u001b[0m\u001b[0;34m,\u001b[0m \u001b[0mactivation\u001b[0m\u001b[0;34m=\u001b[0m\u001b[0;34m\"relu\"\u001b[0m\u001b[0;34m)\u001b[0m\u001b[0;34m)\u001b[0m\u001b[0;34m\u001b[0m\u001b[0;34m\u001b[0m\u001b[0m\n\u001b[0m\u001b[1;32m      8\u001b[0m \u001b[0mmodel\u001b[0m\u001b[0;34m.\u001b[0m\u001b[0madd\u001b[0m\u001b[0;34m(\u001b[0m\u001b[0mMaxPooling2D\u001b[0m\u001b[0;34m(\u001b[0m\u001b[0mpool_size\u001b[0m\u001b[0;34m=\u001b[0m\u001b[0;34m(\u001b[0m\u001b[0;36m3\u001b[0m\u001b[0;34m,\u001b[0m \u001b[0;36m3\u001b[0m\u001b[0;34m)\u001b[0m\u001b[0;34m)\u001b[0m\u001b[0;34m)\u001b[0m\u001b[0;34m\u001b[0m\u001b[0;34m\u001b[0m\u001b[0m\n\u001b[1;32m      9\u001b[0m \u001b[0mmodel\u001b[0m\u001b[0;34m.\u001b[0m\u001b[0madd\u001b[0m\u001b[0;34m(\u001b[0m\u001b[0mConv2D\u001b[0m\u001b[0;34m(\u001b[0m\u001b[0mfilters\u001b[0m\u001b[0;34m=\u001b[0m\u001b[0;36m32\u001b[0m\u001b[0;34m,\u001b[0m \u001b[0mkernel_size\u001b[0m\u001b[0;34m=\u001b[0m\u001b[0;34m(\u001b[0m\u001b[0;36m3\u001b[0m\u001b[0;34m,\u001b[0m \u001b[0;36m3\u001b[0m\u001b[0;34m)\u001b[0m\u001b[0;34m,\u001b[0m \u001b[0mactivation\u001b[0m\u001b[0;34m=\u001b[0m\u001b[0;34m\"relu\"\u001b[0m\u001b[0;34m)\u001b[0m\u001b[0;34m)\u001b[0m\u001b[0;34m\u001b[0m\u001b[0;34m\u001b[0m\u001b[0m\n",
      "\u001b[0;32m/anaconda3/envs/servier/lib/python3.6/site-packages/tensorflow/python/training/tracking/base.py\u001b[0m in \u001b[0;36m_method_wrapper\u001b[0;34m(self, *args, **kwargs)\u001b[0m\n\u001b[1;32m    455\u001b[0m     \u001b[0mself\u001b[0m\u001b[0;34m.\u001b[0m\u001b[0m_self_setattr_tracking\u001b[0m \u001b[0;34m=\u001b[0m \u001b[0;32mFalse\u001b[0m  \u001b[0;31m# pylint: disable=protected-access\u001b[0m\u001b[0;34m\u001b[0m\u001b[0;34m\u001b[0m\u001b[0m\n\u001b[1;32m    456\u001b[0m     \u001b[0;32mtry\u001b[0m\u001b[0;34m:\u001b[0m\u001b[0;34m\u001b[0m\u001b[0;34m\u001b[0m\u001b[0m\n\u001b[0;32m--> 457\u001b[0;31m       \u001b[0mresult\u001b[0m \u001b[0;34m=\u001b[0m \u001b[0mmethod\u001b[0m\u001b[0;34m(\u001b[0m\u001b[0mself\u001b[0m\u001b[0;34m,\u001b[0m \u001b[0;34m*\u001b[0m\u001b[0margs\u001b[0m\u001b[0;34m,\u001b[0m \u001b[0;34m**\u001b[0m\u001b[0mkwargs\u001b[0m\u001b[0;34m)\u001b[0m\u001b[0;34m\u001b[0m\u001b[0;34m\u001b[0m\u001b[0m\n\u001b[0m\u001b[1;32m    458\u001b[0m     \u001b[0;32mfinally\u001b[0m\u001b[0;34m:\u001b[0m\u001b[0;34m\u001b[0m\u001b[0;34m\u001b[0m\u001b[0m\n\u001b[1;32m    459\u001b[0m       \u001b[0mself\u001b[0m\u001b[0;34m.\u001b[0m\u001b[0m_self_setattr_tracking\u001b[0m \u001b[0;34m=\u001b[0m \u001b[0mprevious_value\u001b[0m  \u001b[0;31m# pylint: disable=protected-access\u001b[0m\u001b[0;34m\u001b[0m\u001b[0;34m\u001b[0m\u001b[0m\n",
      "\u001b[0;32m/anaconda3/envs/servier/lib/python3.6/site-packages/tensorflow/python/keras/engine/sequential.py\u001b[0m in \u001b[0;36madd\u001b[0;34m(self, layer)\u001b[0m\n\u001b[1;32m    219\u001b[0m       \u001b[0;31m# If the model is being built continuously on top of an input layer:\u001b[0m\u001b[0;34m\u001b[0m\u001b[0;34m\u001b[0m\u001b[0;34m\u001b[0m\u001b[0m\n\u001b[1;32m    220\u001b[0m       \u001b[0;31m# refresh its output.\u001b[0m\u001b[0;34m\u001b[0m\u001b[0;34m\u001b[0m\u001b[0;34m\u001b[0m\u001b[0m\n\u001b[0;32m--> 221\u001b[0;31m       \u001b[0moutput_tensor\u001b[0m \u001b[0;34m=\u001b[0m \u001b[0mlayer\u001b[0m\u001b[0;34m(\u001b[0m\u001b[0mself\u001b[0m\u001b[0;34m.\u001b[0m\u001b[0moutputs\u001b[0m\u001b[0;34m[\u001b[0m\u001b[0;36m0\u001b[0m\u001b[0;34m]\u001b[0m\u001b[0;34m)\u001b[0m\u001b[0;34m\u001b[0m\u001b[0;34m\u001b[0m\u001b[0m\n\u001b[0m\u001b[1;32m    222\u001b[0m       \u001b[0;32mif\u001b[0m \u001b[0mlen\u001b[0m\u001b[0;34m(\u001b[0m\u001b[0mnest\u001b[0m\u001b[0;34m.\u001b[0m\u001b[0mflatten\u001b[0m\u001b[0;34m(\u001b[0m\u001b[0moutput_tensor\u001b[0m\u001b[0;34m)\u001b[0m\u001b[0;34m)\u001b[0m \u001b[0;34m!=\u001b[0m \u001b[0;36m1\u001b[0m\u001b[0;34m:\u001b[0m\u001b[0;34m\u001b[0m\u001b[0;34m\u001b[0m\u001b[0m\n\u001b[1;32m    223\u001b[0m         \u001b[0;32mraise\u001b[0m \u001b[0mValueError\u001b[0m\u001b[0;34m(\u001b[0m\u001b[0mSINGLE_LAYER_OUTPUT_ERROR_MSG\u001b[0m\u001b[0;34m)\u001b[0m\u001b[0;34m\u001b[0m\u001b[0;34m\u001b[0m\u001b[0m\n",
      "\u001b[0;32m/anaconda3/envs/servier/lib/python3.6/site-packages/tensorflow/python/keras/engine/base_layer.py\u001b[0m in \u001b[0;36m__call__\u001b[0;34m(self, *args, **kwargs)\u001b[0m\n\u001b[1;32m    924\u001b[0m     \u001b[0;32mif\u001b[0m \u001b[0m_in_functional_construction_mode\u001b[0m\u001b[0;34m(\u001b[0m\u001b[0mself\u001b[0m\u001b[0;34m,\u001b[0m \u001b[0minputs\u001b[0m\u001b[0;34m,\u001b[0m \u001b[0margs\u001b[0m\u001b[0;34m,\u001b[0m \u001b[0mkwargs\u001b[0m\u001b[0;34m,\u001b[0m \u001b[0minput_list\u001b[0m\u001b[0;34m)\u001b[0m\u001b[0;34m:\u001b[0m\u001b[0;34m\u001b[0m\u001b[0;34m\u001b[0m\u001b[0m\n\u001b[1;32m    925\u001b[0m       return self._functional_construction_call(inputs, args, kwargs,\n\u001b[0;32m--> 926\u001b[0;31m                                                 input_list)\n\u001b[0m\u001b[1;32m    927\u001b[0m \u001b[0;34m\u001b[0m\u001b[0m\n\u001b[1;32m    928\u001b[0m     \u001b[0;31m# Maintains info about the `Layer.call` stack.\u001b[0m\u001b[0;34m\u001b[0m\u001b[0;34m\u001b[0m\u001b[0;34m\u001b[0m\u001b[0m\n",
      "\u001b[0;32m/anaconda3/envs/servier/lib/python3.6/site-packages/tensorflow/python/keras/engine/base_layer.py\u001b[0m in \u001b[0;36m_functional_construction_call\u001b[0;34m(self, inputs, args, kwargs, input_list)\u001b[0m\n\u001b[1;32m   1090\u001b[0m       \u001b[0;31m# TODO(reedwm): We should assert input compatibility after the inputs\u001b[0m\u001b[0;34m\u001b[0m\u001b[0;34m\u001b[0m\u001b[0;34m\u001b[0m\u001b[0m\n\u001b[1;32m   1091\u001b[0m       \u001b[0;31m# are casted, not before.\u001b[0m\u001b[0;34m\u001b[0m\u001b[0;34m\u001b[0m\u001b[0;34m\u001b[0m\u001b[0m\n\u001b[0;32m-> 1092\u001b[0;31m       \u001b[0minput_spec\u001b[0m\u001b[0;34m.\u001b[0m\u001b[0massert_input_compatibility\u001b[0m\u001b[0;34m(\u001b[0m\u001b[0mself\u001b[0m\u001b[0;34m.\u001b[0m\u001b[0minput_spec\u001b[0m\u001b[0;34m,\u001b[0m \u001b[0minputs\u001b[0m\u001b[0;34m,\u001b[0m \u001b[0mself\u001b[0m\u001b[0;34m.\u001b[0m\u001b[0mname\u001b[0m\u001b[0;34m)\u001b[0m\u001b[0;34m\u001b[0m\u001b[0;34m\u001b[0m\u001b[0m\n\u001b[0m\u001b[1;32m   1093\u001b[0m       \u001b[0mgraph\u001b[0m \u001b[0;34m=\u001b[0m \u001b[0mbackend\u001b[0m\u001b[0;34m.\u001b[0m\u001b[0mget_graph\u001b[0m\u001b[0;34m(\u001b[0m\u001b[0;34m)\u001b[0m\u001b[0;34m\u001b[0m\u001b[0;34m\u001b[0m\u001b[0m\n\u001b[1;32m   1094\u001b[0m       \u001b[0;31m# Use `self._name_scope()` to avoid auto-incrementing the name.\u001b[0m\u001b[0;34m\u001b[0m\u001b[0;34m\u001b[0m\u001b[0;34m\u001b[0m\u001b[0m\n",
      "\u001b[0;32m/anaconda3/envs/servier/lib/python3.6/site-packages/tensorflow/python/keras/engine/input_spec.py\u001b[0m in \u001b[0;36massert_input_compatibility\u001b[0;34m(input_spec, inputs, layer_name)\u001b[0m\n\u001b[1;32m    194\u001b[0m                          \u001b[0;34m', found ndim='\u001b[0m \u001b[0;34m+\u001b[0m \u001b[0mstr\u001b[0m\u001b[0;34m(\u001b[0m\u001b[0mndim\u001b[0m\u001b[0;34m)\u001b[0m \u001b[0;34m+\u001b[0m\u001b[0;34m\u001b[0m\u001b[0;34m\u001b[0m\u001b[0m\n\u001b[1;32m    195\u001b[0m                          \u001b[0;34m'. Full shape received: '\u001b[0m \u001b[0;34m+\u001b[0m\u001b[0;34m\u001b[0m\u001b[0;34m\u001b[0m\u001b[0m\n\u001b[0;32m--> 196\u001b[0;31m                          str(x.shape.as_list()))\n\u001b[0m\u001b[1;32m    197\u001b[0m     \u001b[0;31m# Check dtype.\u001b[0m\u001b[0;34m\u001b[0m\u001b[0;34m\u001b[0m\u001b[0;34m\u001b[0m\u001b[0m\n\u001b[1;32m    198\u001b[0m     \u001b[0;32mif\u001b[0m \u001b[0mspec\u001b[0m\u001b[0;34m.\u001b[0m\u001b[0mdtype\u001b[0m \u001b[0;32mis\u001b[0m \u001b[0;32mnot\u001b[0m \u001b[0;32mNone\u001b[0m\u001b[0;34m:\u001b[0m\u001b[0;34m\u001b[0m\u001b[0;34m\u001b[0m\u001b[0m\n",
      "\u001b[0;31mValueError\u001b[0m: Input 0 of layer conv2d_3 is incompatible with the layer: : expected min_ndim=4, found ndim=2. Full shape received: [None, 3]"
     ]
    }
   ],
   "source": [
    "model = Sequential()\n",
    "\n",
    "model.add(Dense(units=3, input_dim=X.shape[1]))\n",
    "\n",
    "#model.add(Activation(\"sigmoid\"))\n",
    "\n",
    "model.add(Conv2D(filters=32, kernel_size=(3, 3), activation=\"relu\"))\n",
    "model.add(MaxPooling2D(pool_size=(3, 3)))\n",
    "model.add(Conv2D(filters=32, kernel_size=(3, 3), activation=\"relu\"))\n",
    "model.add(MaxPooling2D(pool_size=(3, 3)))\n",
    "model.add(Conv2D(filters=32, kernel_size=(3, 3), activation=\"relu\"))\n",
    "\n",
    "# Apply global average pooling to get flat feature vectors\n",
    "model.add(GlobalAveragePooling2D()(x))\n",
    "\n",
    "# Add a dense classifier on top\n",
    "num_classes = 1\n",
    "outputs = Dense(num_classes, activation=\"softmax\")(x)\n",
    "\n",
    "#model.add(Dense(units=1))\n",
    "#model.add(Activation(\"linear\"))"
   ]
  },
  {
   "cell_type": "code",
   "execution_count": 101,
   "metadata": {},
   "outputs": [
    {
     "data": {
      "text/plain": [
       "45.254833995939045"
      ]
     },
     "execution_count": 101,
     "metadata": {},
     "output_type": "execute_result"
    }
   ],
   "source": []
  },
  {
   "cell_type": "code",
   "execution_count": 112,
   "metadata": {},
   "outputs": [
    {
     "name": "stdout",
     "output_type": "stream",
     "text": [
      "Model: \"sequential_20\"\n",
      "_________________________________________________________________\n",
      "Layer (type)                 Output Shape              Param #   \n",
      "=================================================================\n",
      "dense_38 (Dense)             (None, 1024)              2098176   \n",
      "_________________________________________________________________\n",
      "reshape_5 (Reshape)          (None, 32, 32, 1)         0         \n",
      "_________________________________________________________________\n",
      "conv2d_12 (Conv2D)           (None, 30, 30, 32)        320       \n",
      "_________________________________________________________________\n",
      "max_pooling2d (MaxPooling2D) (None, 15, 15, 32)        0         \n",
      "_________________________________________________________________\n",
      "conv2d_13 (Conv2D)           (None, 13, 13, 64)        18496     \n",
      "_________________________________________________________________\n",
      "max_pooling2d_1 (MaxPooling2 (None, 6, 6, 64)          0         \n",
      "_________________________________________________________________\n",
      "conv2d_14 (Conv2D)           (None, 4, 4, 64)          36928     \n",
      "_________________________________________________________________\n",
      "dense_39 (Dense)             (None, 4, 4, 10)          650       \n",
      "=================================================================\n",
      "Total params: 2,154,570\n",
      "Trainable params: 2,154,570\n",
      "Non-trainable params: 0\n",
      "_________________________________________________________________\n"
     ]
    }
   ],
   "source": [
    "model = Sequential()\n",
    "model.add(Dense(1024, input_dim=X.shape[1], activation='relu'))\n",
    "\n",
    "#model.add(Dense(512, input_dim=X.shape[1], activation='relu'))\n",
    "#model.add(Dense(256, input_dim=X.shape[1], activation='relu'))\n",
    "#model.add(Dense(128, activation='relu'))\n",
    "#model.add(Dense(1, activation='softmax'))\n",
    "\n",
    "model.add(Reshape((32, 32, 1), input_shape=(1024,)))\n",
    "model.add(Conv2D(32, (3, 3), activation='relu', input_shape=(32, 32, 1)))\n",
    "model.add(MaxPooling2D((2, 2)))\n",
    "model.add(Conv2D(64, (3, 3), activation='relu'))\n",
    "model.add(MaxPooling2D((2, 2)))\n",
    "model.add(Conv2D(64, (3, 3), activation='relu'))\n",
    "model.add(Dense(10, activation=\"softmax\"))\n",
    "model.summary()"
   ]
  },
  {
   "cell_type": "code",
   "execution_count": 113,
   "metadata": {},
   "outputs": [
    {
     "name": "stdout",
     "output_type": "stream",
     "text": [
      "Epoch 1/10\n"
     ]
    },
    {
     "ename": "InvalidArgumentError",
     "evalue": " Incompatible shapes: [64,1] vs. [64,4,4]\n\t [[node Equal (defined at <ipython-input-113-f97a05b656bf>:2) ]] [Op:__inference_train_function_106552]\n\nFunction call stack:\ntrain_function\n",
     "output_type": "error",
     "traceback": [
      "\u001b[0;31m---------------------------------------------------------------------------\u001b[0m",
      "\u001b[0;31mInvalidArgumentError\u001b[0m                      Traceback (most recent call last)",
      "\u001b[0;32m<ipython-input-113-f97a05b656bf>\u001b[0m in \u001b[0;36m<module>\u001b[0;34m\u001b[0m\n\u001b[1;32m      1\u001b[0m \u001b[0mmodel\u001b[0m\u001b[0;34m.\u001b[0m\u001b[0mcompile\u001b[0m\u001b[0;34m(\u001b[0m\u001b[0mloss\u001b[0m\u001b[0;34m=\u001b[0m\u001b[0;34m'binary_crossentropy'\u001b[0m\u001b[0;34m,\u001b[0m \u001b[0moptimizer\u001b[0m\u001b[0;34m=\u001b[0m\u001b[0;34m\"adam\"\u001b[0m\u001b[0;34m,\u001b[0m \u001b[0mmetrics\u001b[0m\u001b[0;34m=\u001b[0m\u001b[0;34m[\u001b[0m\u001b[0;34m'accuracy'\u001b[0m\u001b[0;34m]\u001b[0m\u001b[0;34m)\u001b[0m\u001b[0;34m\u001b[0m\u001b[0;34m\u001b[0m\u001b[0m\n\u001b[0;32m----> 2\u001b[0;31m \u001b[0mH\u001b[0m \u001b[0;34m=\u001b[0m \u001b[0mmodel\u001b[0m\u001b[0;34m.\u001b[0m\u001b[0mfit\u001b[0m\u001b[0;34m(\u001b[0m\u001b[0mX_train\u001b[0m\u001b[0;34m,\u001b[0m \u001b[0my_train\u001b[0m\u001b[0;34m,\u001b[0m \u001b[0mvalidation_data\u001b[0m \u001b[0;34m=\u001b[0m \u001b[0;34m(\u001b[0m\u001b[0mX_test\u001b[0m\u001b[0;34m,\u001b[0m \u001b[0my_test\u001b[0m\u001b[0;34m)\u001b[0m\u001b[0;34m,\u001b[0m \u001b[0mepochs\u001b[0m\u001b[0;34m=\u001b[0m\u001b[0;36m10\u001b[0m\u001b[0;34m,\u001b[0m \u001b[0mbatch_size\u001b[0m\u001b[0;34m=\u001b[0m\u001b[0;36m64\u001b[0m\u001b[0;34m)\u001b[0m\u001b[0;34m\u001b[0m\u001b[0;34m\u001b[0m\u001b[0m\n\u001b[0m\u001b[1;32m      3\u001b[0m \u001b[0;31m#y_pred = model.predict(X_test)\u001b[0m\u001b[0;34m\u001b[0m\u001b[0;34m\u001b[0m\u001b[0;34m\u001b[0m\u001b[0m\n",
      "\u001b[0;32m/anaconda3/envs/servier/lib/python3.6/site-packages/tensorflow/python/keras/engine/training.py\u001b[0m in \u001b[0;36m_method_wrapper\u001b[0;34m(self, *args, **kwargs)\u001b[0m\n\u001b[1;32m    106\u001b[0m   \u001b[0;32mdef\u001b[0m \u001b[0m_method_wrapper\u001b[0m\u001b[0;34m(\u001b[0m\u001b[0mself\u001b[0m\u001b[0;34m,\u001b[0m \u001b[0;34m*\u001b[0m\u001b[0margs\u001b[0m\u001b[0;34m,\u001b[0m \u001b[0;34m**\u001b[0m\u001b[0mkwargs\u001b[0m\u001b[0;34m)\u001b[0m\u001b[0;34m:\u001b[0m\u001b[0;34m\u001b[0m\u001b[0;34m\u001b[0m\u001b[0m\n\u001b[1;32m    107\u001b[0m     \u001b[0;32mif\u001b[0m \u001b[0;32mnot\u001b[0m \u001b[0mself\u001b[0m\u001b[0;34m.\u001b[0m\u001b[0m_in_multi_worker_mode\u001b[0m\u001b[0;34m(\u001b[0m\u001b[0;34m)\u001b[0m\u001b[0;34m:\u001b[0m  \u001b[0;31m# pylint: disable=protected-access\u001b[0m\u001b[0;34m\u001b[0m\u001b[0;34m\u001b[0m\u001b[0m\n\u001b[0;32m--> 108\u001b[0;31m       \u001b[0;32mreturn\u001b[0m \u001b[0mmethod\u001b[0m\u001b[0;34m(\u001b[0m\u001b[0mself\u001b[0m\u001b[0;34m,\u001b[0m \u001b[0;34m*\u001b[0m\u001b[0margs\u001b[0m\u001b[0;34m,\u001b[0m \u001b[0;34m**\u001b[0m\u001b[0mkwargs\u001b[0m\u001b[0;34m)\u001b[0m\u001b[0;34m\u001b[0m\u001b[0;34m\u001b[0m\u001b[0m\n\u001b[0m\u001b[1;32m    109\u001b[0m \u001b[0;34m\u001b[0m\u001b[0m\n\u001b[1;32m    110\u001b[0m     \u001b[0;31m# Running inside `run_distribute_coordinator` already.\u001b[0m\u001b[0;34m\u001b[0m\u001b[0;34m\u001b[0m\u001b[0;34m\u001b[0m\u001b[0m\n",
      "\u001b[0;32m/anaconda3/envs/servier/lib/python3.6/site-packages/tensorflow/python/keras/engine/training.py\u001b[0m in \u001b[0;36mfit\u001b[0;34m(self, x, y, batch_size, epochs, verbose, callbacks, validation_split, validation_data, shuffle, class_weight, sample_weight, initial_epoch, steps_per_epoch, validation_steps, validation_batch_size, validation_freq, max_queue_size, workers, use_multiprocessing)\u001b[0m\n\u001b[1;32m   1096\u001b[0m                 batch_size=batch_size):\n\u001b[1;32m   1097\u001b[0m               \u001b[0mcallbacks\u001b[0m\u001b[0;34m.\u001b[0m\u001b[0mon_train_batch_begin\u001b[0m\u001b[0;34m(\u001b[0m\u001b[0mstep\u001b[0m\u001b[0;34m)\u001b[0m\u001b[0;34m\u001b[0m\u001b[0;34m\u001b[0m\u001b[0m\n\u001b[0;32m-> 1098\u001b[0;31m               \u001b[0mtmp_logs\u001b[0m \u001b[0;34m=\u001b[0m \u001b[0mtrain_function\u001b[0m\u001b[0;34m(\u001b[0m\u001b[0miterator\u001b[0m\u001b[0;34m)\u001b[0m\u001b[0;34m\u001b[0m\u001b[0;34m\u001b[0m\u001b[0m\n\u001b[0m\u001b[1;32m   1099\u001b[0m               \u001b[0;32mif\u001b[0m \u001b[0mdata_handler\u001b[0m\u001b[0;34m.\u001b[0m\u001b[0mshould_sync\u001b[0m\u001b[0;34m:\u001b[0m\u001b[0;34m\u001b[0m\u001b[0;34m\u001b[0m\u001b[0m\n\u001b[1;32m   1100\u001b[0m                 \u001b[0mcontext\u001b[0m\u001b[0;34m.\u001b[0m\u001b[0masync_wait\u001b[0m\u001b[0;34m(\u001b[0m\u001b[0;34m)\u001b[0m\u001b[0;34m\u001b[0m\u001b[0;34m\u001b[0m\u001b[0m\n",
      "\u001b[0;32m/anaconda3/envs/servier/lib/python3.6/site-packages/tensorflow/python/eager/def_function.py\u001b[0m in \u001b[0;36m__call__\u001b[0;34m(self, *args, **kwds)\u001b[0m\n\u001b[1;32m    778\u001b[0m       \u001b[0;32melse\u001b[0m\u001b[0;34m:\u001b[0m\u001b[0;34m\u001b[0m\u001b[0;34m\u001b[0m\u001b[0m\n\u001b[1;32m    779\u001b[0m         \u001b[0mcompiler\u001b[0m \u001b[0;34m=\u001b[0m \u001b[0;34m\"nonXla\"\u001b[0m\u001b[0;34m\u001b[0m\u001b[0;34m\u001b[0m\u001b[0m\n\u001b[0;32m--> 780\u001b[0;31m         \u001b[0mresult\u001b[0m \u001b[0;34m=\u001b[0m \u001b[0mself\u001b[0m\u001b[0;34m.\u001b[0m\u001b[0m_call\u001b[0m\u001b[0;34m(\u001b[0m\u001b[0;34m*\u001b[0m\u001b[0margs\u001b[0m\u001b[0;34m,\u001b[0m \u001b[0;34m**\u001b[0m\u001b[0mkwds\u001b[0m\u001b[0;34m)\u001b[0m\u001b[0;34m\u001b[0m\u001b[0;34m\u001b[0m\u001b[0m\n\u001b[0m\u001b[1;32m    781\u001b[0m \u001b[0;34m\u001b[0m\u001b[0m\n\u001b[1;32m    782\u001b[0m       \u001b[0mnew_tracing_count\u001b[0m \u001b[0;34m=\u001b[0m \u001b[0mself\u001b[0m\u001b[0;34m.\u001b[0m\u001b[0m_get_tracing_count\u001b[0m\u001b[0;34m(\u001b[0m\u001b[0;34m)\u001b[0m\u001b[0;34m\u001b[0m\u001b[0;34m\u001b[0m\u001b[0m\n",
      "\u001b[0;32m/anaconda3/envs/servier/lib/python3.6/site-packages/tensorflow/python/eager/def_function.py\u001b[0m in \u001b[0;36m_call\u001b[0;34m(self, *args, **kwds)\u001b[0m\n\u001b[1;32m    838\u001b[0m         \u001b[0;31m# Lifting succeeded, so variables are initialized and we can run the\u001b[0m\u001b[0;34m\u001b[0m\u001b[0;34m\u001b[0m\u001b[0;34m\u001b[0m\u001b[0m\n\u001b[1;32m    839\u001b[0m         \u001b[0;31m# stateless function.\u001b[0m\u001b[0;34m\u001b[0m\u001b[0;34m\u001b[0m\u001b[0;34m\u001b[0m\u001b[0m\n\u001b[0;32m--> 840\u001b[0;31m         \u001b[0;32mreturn\u001b[0m \u001b[0mself\u001b[0m\u001b[0;34m.\u001b[0m\u001b[0m_stateless_fn\u001b[0m\u001b[0;34m(\u001b[0m\u001b[0;34m*\u001b[0m\u001b[0margs\u001b[0m\u001b[0;34m,\u001b[0m \u001b[0;34m**\u001b[0m\u001b[0mkwds\u001b[0m\u001b[0;34m)\u001b[0m\u001b[0;34m\u001b[0m\u001b[0;34m\u001b[0m\u001b[0m\n\u001b[0m\u001b[1;32m    841\u001b[0m     \u001b[0;32melse\u001b[0m\u001b[0;34m:\u001b[0m\u001b[0;34m\u001b[0m\u001b[0;34m\u001b[0m\u001b[0m\n\u001b[1;32m    842\u001b[0m       \u001b[0mcanon_args\u001b[0m\u001b[0;34m,\u001b[0m \u001b[0mcanon_kwds\u001b[0m \u001b[0;34m=\u001b[0m\u001b[0;31m \u001b[0m\u001b[0;31m\\\u001b[0m\u001b[0;34m\u001b[0m\u001b[0;34m\u001b[0m\u001b[0m\n",
      "\u001b[0;32m/anaconda3/envs/servier/lib/python3.6/site-packages/tensorflow/python/eager/function.py\u001b[0m in \u001b[0;36m__call__\u001b[0;34m(self, *args, **kwargs)\u001b[0m\n\u001b[1;32m   2827\u001b[0m     \u001b[0;32mwith\u001b[0m \u001b[0mself\u001b[0m\u001b[0;34m.\u001b[0m\u001b[0m_lock\u001b[0m\u001b[0;34m:\u001b[0m\u001b[0;34m\u001b[0m\u001b[0;34m\u001b[0m\u001b[0m\n\u001b[1;32m   2828\u001b[0m       \u001b[0mgraph_function\u001b[0m\u001b[0;34m,\u001b[0m \u001b[0margs\u001b[0m\u001b[0;34m,\u001b[0m \u001b[0mkwargs\u001b[0m \u001b[0;34m=\u001b[0m \u001b[0mself\u001b[0m\u001b[0;34m.\u001b[0m\u001b[0m_maybe_define_function\u001b[0m\u001b[0;34m(\u001b[0m\u001b[0margs\u001b[0m\u001b[0;34m,\u001b[0m \u001b[0mkwargs\u001b[0m\u001b[0;34m)\u001b[0m\u001b[0;34m\u001b[0m\u001b[0;34m\u001b[0m\u001b[0m\n\u001b[0;32m-> 2829\u001b[0;31m     \u001b[0;32mreturn\u001b[0m \u001b[0mgraph_function\u001b[0m\u001b[0;34m.\u001b[0m\u001b[0m_filtered_call\u001b[0m\u001b[0;34m(\u001b[0m\u001b[0margs\u001b[0m\u001b[0;34m,\u001b[0m \u001b[0mkwargs\u001b[0m\u001b[0;34m)\u001b[0m  \u001b[0;31m# pylint: disable=protected-access\u001b[0m\u001b[0;34m\u001b[0m\u001b[0;34m\u001b[0m\u001b[0m\n\u001b[0m\u001b[1;32m   2830\u001b[0m \u001b[0;34m\u001b[0m\u001b[0m\n\u001b[1;32m   2831\u001b[0m   \u001b[0;34m@\u001b[0m\u001b[0mproperty\u001b[0m\u001b[0;34m\u001b[0m\u001b[0;34m\u001b[0m\u001b[0m\n",
      "\u001b[0;32m/anaconda3/envs/servier/lib/python3.6/site-packages/tensorflow/python/eager/function.py\u001b[0m in \u001b[0;36m_filtered_call\u001b[0;34m(self, args, kwargs, cancellation_manager)\u001b[0m\n\u001b[1;32m   1846\u001b[0m                            resource_variable_ops.BaseResourceVariable))],\n\u001b[1;32m   1847\u001b[0m         \u001b[0mcaptured_inputs\u001b[0m\u001b[0;34m=\u001b[0m\u001b[0mself\u001b[0m\u001b[0;34m.\u001b[0m\u001b[0mcaptured_inputs\u001b[0m\u001b[0;34m,\u001b[0m\u001b[0;34m\u001b[0m\u001b[0;34m\u001b[0m\u001b[0m\n\u001b[0;32m-> 1848\u001b[0;31m         cancellation_manager=cancellation_manager)\n\u001b[0m\u001b[1;32m   1849\u001b[0m \u001b[0;34m\u001b[0m\u001b[0m\n\u001b[1;32m   1850\u001b[0m   \u001b[0;32mdef\u001b[0m \u001b[0m_call_flat\u001b[0m\u001b[0;34m(\u001b[0m\u001b[0mself\u001b[0m\u001b[0;34m,\u001b[0m \u001b[0margs\u001b[0m\u001b[0;34m,\u001b[0m \u001b[0mcaptured_inputs\u001b[0m\u001b[0;34m,\u001b[0m \u001b[0mcancellation_manager\u001b[0m\u001b[0;34m=\u001b[0m\u001b[0;32mNone\u001b[0m\u001b[0;34m)\u001b[0m\u001b[0;34m:\u001b[0m\u001b[0;34m\u001b[0m\u001b[0;34m\u001b[0m\u001b[0m\n",
      "\u001b[0;32m/anaconda3/envs/servier/lib/python3.6/site-packages/tensorflow/python/eager/function.py\u001b[0m in \u001b[0;36m_call_flat\u001b[0;34m(self, args, captured_inputs, cancellation_manager)\u001b[0m\n\u001b[1;32m   1922\u001b[0m       \u001b[0;31m# No tape is watching; skip to running the function.\u001b[0m\u001b[0;34m\u001b[0m\u001b[0;34m\u001b[0m\u001b[0;34m\u001b[0m\u001b[0m\n\u001b[1;32m   1923\u001b[0m       return self._build_call_outputs(self._inference_function.call(\n\u001b[0;32m-> 1924\u001b[0;31m           ctx, args, cancellation_manager=cancellation_manager))\n\u001b[0m\u001b[1;32m   1925\u001b[0m     forward_backward = self._select_forward_and_backward_functions(\n\u001b[1;32m   1926\u001b[0m         \u001b[0margs\u001b[0m\u001b[0;34m,\u001b[0m\u001b[0;34m\u001b[0m\u001b[0;34m\u001b[0m\u001b[0m\n",
      "\u001b[0;32m/anaconda3/envs/servier/lib/python3.6/site-packages/tensorflow/python/eager/function.py\u001b[0m in \u001b[0;36mcall\u001b[0;34m(self, ctx, args, cancellation_manager)\u001b[0m\n\u001b[1;32m    548\u001b[0m               \u001b[0minputs\u001b[0m\u001b[0;34m=\u001b[0m\u001b[0margs\u001b[0m\u001b[0;34m,\u001b[0m\u001b[0;34m\u001b[0m\u001b[0;34m\u001b[0m\u001b[0m\n\u001b[1;32m    549\u001b[0m               \u001b[0mattrs\u001b[0m\u001b[0;34m=\u001b[0m\u001b[0mattrs\u001b[0m\u001b[0;34m,\u001b[0m\u001b[0;34m\u001b[0m\u001b[0;34m\u001b[0m\u001b[0m\n\u001b[0;32m--> 550\u001b[0;31m               ctx=ctx)\n\u001b[0m\u001b[1;32m    551\u001b[0m         \u001b[0;32melse\u001b[0m\u001b[0;34m:\u001b[0m\u001b[0;34m\u001b[0m\u001b[0;34m\u001b[0m\u001b[0m\n\u001b[1;32m    552\u001b[0m           outputs = execute.execute_with_cancellation(\n",
      "\u001b[0;32m/anaconda3/envs/servier/lib/python3.6/site-packages/tensorflow/python/eager/execute.py\u001b[0m in \u001b[0;36mquick_execute\u001b[0;34m(op_name, num_outputs, inputs, attrs, ctx, name)\u001b[0m\n\u001b[1;32m     58\u001b[0m     \u001b[0mctx\u001b[0m\u001b[0;34m.\u001b[0m\u001b[0mensure_initialized\u001b[0m\u001b[0;34m(\u001b[0m\u001b[0;34m)\u001b[0m\u001b[0;34m\u001b[0m\u001b[0;34m\u001b[0m\u001b[0m\n\u001b[1;32m     59\u001b[0m     tensors = pywrap_tfe.TFE_Py_Execute(ctx._handle, device_name, op_name,\n\u001b[0;32m---> 60\u001b[0;31m                                         inputs, attrs, num_outputs)\n\u001b[0m\u001b[1;32m     61\u001b[0m   \u001b[0;32mexcept\u001b[0m \u001b[0mcore\u001b[0m\u001b[0;34m.\u001b[0m\u001b[0m_NotOkStatusException\u001b[0m \u001b[0;32mas\u001b[0m \u001b[0me\u001b[0m\u001b[0;34m:\u001b[0m\u001b[0;34m\u001b[0m\u001b[0;34m\u001b[0m\u001b[0m\n\u001b[1;32m     62\u001b[0m     \u001b[0;32mif\u001b[0m \u001b[0mname\u001b[0m \u001b[0;32mis\u001b[0m \u001b[0;32mnot\u001b[0m \u001b[0;32mNone\u001b[0m\u001b[0;34m:\u001b[0m\u001b[0;34m\u001b[0m\u001b[0;34m\u001b[0m\u001b[0m\n",
      "\u001b[0;31mInvalidArgumentError\u001b[0m:  Incompatible shapes: [64,1] vs. [64,4,4]\n\t [[node Equal (defined at <ipython-input-113-f97a05b656bf>:2) ]] [Op:__inference_train_function_106552]\n\nFunction call stack:\ntrain_function\n"
     ]
    }
   ],
   "source": [
    "model.compile(loss='binary_crossentropy', optimizer=\"adam\", metrics=['accuracy'])\n",
    "H = model.fit(X_train, y_train, validation_data = (X_test, y_test), epochs=10, batch_size=64)\n",
    "#y_pred = model.predict(X_test)"
   ]
  },
  {
   "cell_type": "code",
   "execution_count": 108,
   "metadata": {},
   "outputs": [
    {
     "data": {
      "image/png": "[encoded data removed]",
      "text/plain": [
       "<Figure size 432x288 with 1 Axes>"
      ]
     },
     "metadata": {
      "needs_background": "light"
     },
     "output_type": "display_data"
    }
   ],
   "source": [
    "plt.plot(H.history['accuracy'])\n",
    "plt.plot(H.history['val_accuracy'])\n",
    "plt.title('Model accuracy')\n",
    "plt.ylabel('Accuracy')\n",
    "plt.xlabel('Epoch')\n",
    "plt.legend(['Train', 'Test'], loc='upper left')\n",
    "plt.show()"
   ]
  },
  {
   "cell_type": "code",
   "execution_count": 78,
   "metadata": {},
   "outputs": [],
   "source": [
    "y_pred = model.predict(X_test)"
   ]
  },
  {
   "cell_type": "code",
   "execution_count": 81,
   "metadata": {},
   "outputs": [
    {
     "data": {
      "text/plain": [
       "0.822"
      ]
     },
     "execution_count": 81,
     "metadata": {},
     "output_type": "execute_result"
    }
   ],
   "source": [
    "accuracy_score(y_pred, y_test)"
   ]
  },
  {
   "cell_type": "code",
   "execution_count": 107,
   "metadata": {},
   "outputs": [
    {
     "data": {
      "text/plain": [
       "2048"
      ]
     },
     "execution_count": 107,
     "metadata": {},
     "output_type": "execute_result"
    }
   ],
   "source": []
  },
  {
   "cell_type": "code",
   "execution_count": 62,
   "metadata": {},
   "outputs": [
    {
     "name": "stdout",
     "output_type": "stream",
     "text": [
      "Epoch 1/100\n",
      "125/125 [==============================] - 107s 853ms/step - loss: 0.6482 - accuracy: 0.8172 - val_loss: 0.5342 - val_accuracy: 0.8220\n",
      "Epoch 2/100\n",
      "125/125 [==============================] - 100s 802ms/step - loss: 0.4462 - accuracy: 0.8217 - val_loss: 0.5943 - val_accuracy: 0.8220\n",
      "Epoch 3/100\n",
      "125/125 [==============================] - 100s 798ms/step - loss: 0.4135 - accuracy: 0.8217 - val_loss: 0.5125 - val_accuracy: 0.8220\n",
      "Epoch 4/100\n",
      "125/125 [==============================] - 101s 812ms/step - loss: 0.3908 - accuracy: 0.8217 - val_loss: 0.5924 - val_accuracy: 0.8220\n",
      "Epoch 5/100\n",
      "125/125 [==============================] - 100s 800ms/step - loss: 0.3808 - accuracy: 0.8217 - val_loss: 0.7681 - val_accuracy: 0.8220\n",
      "Epoch 6/100\n",
      "125/125 [==============================] - 100s 800ms/step - loss: 0.3713 - accuracy: 0.8217 - val_loss: 0.7960 - val_accuracy: 0.8220\n",
      "Epoch 7/100\n",
      "125/125 [==============================] - 100s 799ms/step - loss: 0.3520 - accuracy: 0.8217 - val_loss: 1.5659 - val_accuracy: 0.8220\n",
      "Epoch 8/100\n",
      "125/125 [==============================] - 100s 803ms/step - loss: 0.3392 - accuracy: 0.8217 - val_loss: 5.4858 - val_accuracy: 0.8220\n",
      "Epoch 9/100\n",
      "125/125 [==============================] - 101s 811ms/step - loss: 0.3247 - accuracy: 0.8217 - val_loss: 7.2508 - val_accuracy: 0.8220\n",
      "Epoch 10/100\n",
      "125/125 [==============================] - 100s 801ms/step - loss: 0.3153 - accuracy: 0.8217 - val_loss: 2.5154 - val_accuracy: 0.8220\n",
      "Epoch 11/100\n",
      "125/125 [==============================] - 100s 798ms/step - loss: 0.3107 - accuracy: 0.8217 - val_loss: 9.3009 - val_accuracy: 0.8220\n",
      "Epoch 12/100\n",
      "125/125 [==============================] - 100s 798ms/step - loss: 0.3023 - accuracy: 0.8217 - val_loss: 13.8533 - val_accuracy: 0.8220\n",
      "Epoch 13/100\n",
      "125/125 [==============================] - 100s 800ms/step - loss: 0.3005 - accuracy: 0.8217 - val_loss: 2.1548 - val_accuracy: 0.8220\n",
      "Epoch 14/100\n",
      "125/125 [==============================] - 101s 806ms/step - loss: 0.2933 - accuracy: 0.8217 - val_loss: 3.5065 - val_accuracy: 0.8220\n",
      "Epoch 15/100\n",
      "125/125 [==============================] - 100s 800ms/step - loss: 0.2891 - accuracy: 0.8217 - val_loss: 3.7416 - val_accuracy: 0.8220\n",
      "Epoch 16/100\n",
      "125/125 [==============================] - 100s 798ms/step - loss: 0.2826 - accuracy: 0.8217 - val_loss: 17.8902 - val_accuracy: 0.8220\n",
      "Epoch 17/100\n",
      "125/125 [==============================] - 99s 792ms/step - loss: 0.2718 - accuracy: 0.8217 - val_loss: 4.1418 - val_accuracy: 0.8220\n",
      "Epoch 18/100\n",
      "125/125 [==============================] - 98s 788ms/step - loss: 0.2696 - accuracy: 0.8217 - val_loss: 2.4593 - val_accuracy: 0.8220\n",
      "Epoch 19/100\n",
      "125/125 [==============================] - 97s 775ms/step - loss: 0.2636 - accuracy: 0.8217 - val_loss: 35.6260 - val_accuracy: 0.8220\n",
      "Epoch 20/100\n",
      "125/125 [==============================] - 99s 794ms/step - loss: 0.2536 - accuracy: 0.8390 - val_loss: 21.0272 - val_accuracy: 0.8220\n",
      "Epoch 21/100\n",
      "125/125 [==============================] - 100s 797ms/step - loss: 0.2621 - accuracy: 0.8390 - val_loss: 1.9970 - val_accuracy: 0.8110\n",
      "Epoch 22/100\n",
      "125/125 [==============================] - 99s 795ms/step - loss: 0.2469 - accuracy: 0.8550 - val_loss: 2.2231 - val_accuracy: 0.8220\n",
      "Epoch 23/100\n",
      "125/125 [==============================] - 98s 785ms/step - loss: 0.2540 - accuracy: 0.8510 - val_loss: 0.9659 - val_accuracy: 0.7850\n",
      "Epoch 24/100\n",
      "125/125 [==============================] - 98s 786ms/step - loss: 0.2471 - accuracy: 0.8567 - val_loss: 1.2974 - val_accuracy: 0.7930\n",
      "Epoch 25/100\n",
      "125/125 [==============================] - 98s 785ms/step - loss: 0.2466 - accuracy: 0.8507 - val_loss: 2.2972 - val_accuracy: 0.8120\n",
      "Epoch 26/100\n",
      "125/125 [==============================] - 98s 781ms/step - loss: 0.2420 - accuracy: 0.8502 - val_loss: 19.2109 - val_accuracy: 0.8220\n",
      "Epoch 27/100\n",
      "125/125 [==============================] - 97s 779ms/step - loss: 0.2410 - accuracy: 0.8540 - val_loss: 7.0222 - val_accuracy: 0.8220\n",
      "Epoch 28/100\n",
      "125/125 [==============================] - 99s 791ms/step - loss: 0.2393 - accuracy: 0.8567 - val_loss: 9.9718 - val_accuracy: 0.8220\n",
      "Epoch 29/100\n",
      "125/125 [==============================] - 98s 783ms/step - loss: 0.2373 - accuracy: 0.8587 - val_loss: 113.0810 - val_accuracy: 0.8220\n",
      "Epoch 30/100\n",
      "125/125 [==============================] - 98s 782ms/step - loss: 0.2417 - accuracy: 0.8505 - val_loss: 1.5095 - val_accuracy: 0.7610\n",
      "Epoch 31/100\n",
      "125/125 [==============================] - 98s 781ms/step - loss: 0.2476 - accuracy: 0.8537 - val_loss: 16.3894 - val_accuracy: 0.8220\n",
      "Epoch 32/100\n",
      "125/125 [==============================] - 96s 765ms/step - loss: 0.2320 - accuracy: 0.8597 - val_loss: 67.2907 - val_accuracy: 0.8220\n",
      "Epoch 33/100\n",
      "125/125 [==============================] - 98s 781ms/step - loss: 0.2302 - accuracy: 0.8632 - val_loss: 1.4103 - val_accuracy: 0.7590\n",
      "Epoch 34/100\n",
      "125/125 [==============================] - 99s 793ms/step - loss: 0.2266 - accuracy: 0.8627 - val_loss: 12.6290 - val_accuracy: 0.8220\n",
      "Epoch 35/100\n",
      "125/125 [==============================] - 97s 778ms/step - loss: 0.2231 - accuracy: 0.8622 - val_loss: 10.6244 - val_accuracy: 0.8210\n",
      "Epoch 36/100\n",
      "125/125 [==============================] - 98s 781ms/step - loss: 0.2187 - accuracy: 0.8710 - val_loss: 1.6102 - val_accuracy: 0.7530\n",
      "Epoch 37/100\n",
      "125/125 [==============================] - 97s 779ms/step - loss: 0.2173 - accuracy: 0.8685 - val_loss: 20.7693 - val_accuracy: 0.8220\n",
      "Epoch 38/100\n",
      "125/125 [==============================] - 98s 785ms/step - loss: 0.2285 - accuracy: 0.8632 - val_loss: 1.7937 - val_accuracy: 0.7920\n",
      "Epoch 39/100\n",
      "125/125 [==============================] - 98s 782ms/step - loss: 0.2194 - accuracy: 0.8712 - val_loss: 2.5752 - val_accuracy: 0.7970\n",
      "Epoch 40/100\n",
      "125/125 [==============================] - 99s 788ms/step - loss: 0.2183 - accuracy: 0.8702 - val_loss: 1.6602 - val_accuracy: 0.7620\n",
      "Epoch 41/100\n",
      "125/125 [==============================] - 98s 787ms/step - loss: 0.2084 - accuracy: 0.8805 - val_loss: 17.4257 - val_accuracy: 0.8220\n",
      "Epoch 42/100\n",
      "125/125 [==============================] - 98s 785ms/step - loss: 0.2171 - accuracy: 0.8720 - val_loss: 1.7189 - val_accuracy: 0.7690\n",
      "Epoch 43/100\n",
      "125/125 [==============================] - 98s 781ms/step - loss: 0.2166 - accuracy: 0.8720 - val_loss: 71.5499 - val_accuracy: 0.8220\n",
      "Epoch 44/100\n",
      "125/125 [==============================] - 1759s 14s/step - loss: 0.2140 - accuracy: 0.8695 - val_loss: 18.9388 - val_accuracy: 0.8220\n",
      "Epoch 45/100\n",
      "125/125 [==============================] - 110s 883ms/step - loss: 0.2107 - accuracy: 0.8770 - val_loss: 8.5008 - val_accuracy: 0.8220\n",
      "Epoch 46/100\n",
      "125/125 [==============================] - 107s 858ms/step - loss: 0.2134 - accuracy: 0.8725 - val_loss: 5.8041 - val_accuracy: 0.8230\n",
      "Epoch 47/100\n",
      "125/125 [==============================] - 105s 840ms/step - loss: 0.2018 - accuracy: 0.8790 - val_loss: 12.6626 - val_accuracy: 0.8220\n",
      "Epoch 48/100\n",
      "125/125 [==============================] - 101s 806ms/step - loss: 0.2060 - accuracy: 0.8775 - val_loss: 1.9734 - val_accuracy: 0.7520\n",
      "Epoch 49/100\n",
      "125/125 [==============================] - 101s 811ms/step - loss: 0.2095 - accuracy: 0.8762 - val_loss: 83.3212 - val_accuracy: 0.8220\n",
      "Epoch 50/100\n",
      "125/125 [==============================] - 102s 815ms/step - loss: 0.2042 - accuracy: 0.8815 - val_loss: 1.7601 - val_accuracy: 0.7530\n",
      "Epoch 51/100\n",
      "125/125 [==============================] - 101s 810ms/step - loss: 0.2100 - accuracy: 0.8755 - val_loss: 3.3662 - val_accuracy: 0.8030\n",
      "Epoch 52/100\n",
      "125/125 [==============================] - 101s 812ms/step - loss: 0.2000 - accuracy: 0.8862 - val_loss: 17.9877 - val_accuracy: 0.8220\n",
      "Epoch 53/100\n",
      "125/125 [==============================] - 99s 794ms/step - loss: 0.2016 - accuracy: 0.8840 - val_loss: 2.0625 - val_accuracy: 0.7500\n",
      "Epoch 54/100\n",
      "125/125 [==============================] - 101s 810ms/step - loss: 0.2052 - accuracy: 0.8780 - val_loss: 64.2414 - val_accuracy: 0.8220\n",
      "Epoch 55/100\n",
      "125/125 [==============================] - 101s 810ms/step - loss: 0.2109 - accuracy: 0.8732 - val_loss: 2.3337 - val_accuracy: 0.7470\n",
      "Epoch 56/100\n",
      "125/125 [==============================] - 101s 811ms/step - loss: 0.2145 - accuracy: 0.8710 - val_loss: 5.4355 - val_accuracy: 0.8180\n",
      "Epoch 57/100\n",
      "125/125 [==============================] - 101s 805ms/step - loss: 0.2123 - accuracy: 0.8755 - val_loss: 1.0425 - val_accuracy: 0.7480\n",
      "Epoch 58/100\n",
      "125/125 [==============================] - 101s 812ms/step - loss: 0.2010 - accuracy: 0.8825 - val_loss: 45.5000 - val_accuracy: 0.8220\n",
      "Epoch 59/100\n",
      "125/125 [==============================] - 102s 812ms/step - loss: 0.1994 - accuracy: 0.8850 - val_loss: 1.5063 - val_accuracy: 0.7530\n",
      "Epoch 60/100\n",
      "125/125 [==============================] - 102s 813ms/step - loss: 0.2024 - accuracy: 0.8792 - val_loss: 2.6442 - val_accuracy: 0.7610\n",
      "Epoch 61/100\n",
      "125/125 [==============================] - 101s 810ms/step - loss: 0.2048 - accuracy: 0.8797 - val_loss: 2.0473 - val_accuracy: 0.7830\n",
      "Epoch 62/100\n",
      "125/125 [==============================] - 101s 811ms/step - loss: 0.2071 - accuracy: 0.8755 - val_loss: 151.1677 - val_accuracy: 0.8220\n",
      "Epoch 63/100\n",
      "125/125 [==============================] - 102s 814ms/step - loss: 0.2026 - accuracy: 0.8860 - val_loss: 46.9322 - val_accuracy: 0.8220\n",
      "Epoch 64/100\n",
      "125/125 [==============================] - 102s 813ms/step - loss: 0.1923 - accuracy: 0.8900 - val_loss: 200.3871 - val_accuracy: 0.8220\n",
      "Epoch 65/100\n",
      "125/125 [==============================] - 99s 790ms/step - loss: 0.2016 - accuracy: 0.8827 - val_loss: 61.1477 - val_accuracy: 0.8220\n",
      "Epoch 66/100\n",
      "125/125 [==============================] - 102s 813ms/step - loss: 0.1956 - accuracy: 0.8892 - val_loss: 1.9355 - val_accuracy: 0.7390\n",
      "Epoch 67/100\n",
      "125/125 [==============================] - 101s 806ms/step - loss: 0.1918 - accuracy: 0.8902 - val_loss: 2.2199 - val_accuracy: 0.7540\n",
      "Epoch 68/100\n",
      "125/125 [==============================] - 101s 811ms/step - loss: 0.2033 - accuracy: 0.8845 - val_loss: 19.3995 - val_accuracy: 0.8220\n",
      "Epoch 69/100\n",
      "125/125 [==============================] - 102s 814ms/step - loss: 0.2000 - accuracy: 0.8805 - val_loss: 119.5261 - val_accuracy: 0.8220\n",
      "Epoch 70/100\n",
      "125/125 [==============================] - 102s 812ms/step - loss: 0.1984 - accuracy: 0.8867 - val_loss: 70.6302 - val_accuracy: 0.8220\n",
      "Epoch 71/100\n",
      "125/125 [==============================] - 101s 811ms/step - loss: 0.2004 - accuracy: 0.8830 - val_loss: 11.4730 - val_accuracy: 0.8210\n",
      "Epoch 72/100\n",
      "125/125 [==============================] - 100s 803ms/step - loss: 0.1945 - accuracy: 0.8872 - val_loss: 2.5172 - val_accuracy: 0.7580\n",
      "Epoch 73/100\n",
      "125/125 [==============================] - 102s 815ms/step - loss: 0.1996 - accuracy: 0.8830 - val_loss: 36.5156 - val_accuracy: 0.8220\n",
      "Epoch 74/100\n",
      "125/125 [==============================] - 102s 816ms/step - loss: 0.1993 - accuracy: 0.8825 - val_loss: 1.8868 - val_accuracy: 0.7540\n",
      "Epoch 75/100\n",
      "125/125 [==============================] - 101s 812ms/step - loss: 0.1993 - accuracy: 0.8865 - val_loss: 1.5763 - val_accuracy: 0.7510\n",
      "Epoch 76/100\n",
      "125/125 [==============================] - 103s 820ms/step - loss: 0.1874 - accuracy: 0.8915 - val_loss: 124.7127 - val_accuracy: 0.8220\n",
      "Epoch 77/100\n",
      "125/125 [==============================] - 104s 831ms/step - loss: 0.1996 - accuracy: 0.8850 - val_loss: 137.1313 - val_accuracy: 0.8220\n",
      "Epoch 78/100\n",
      "125/125 [==============================] - 117s 940ms/step - loss: 0.1998 - accuracy: 0.8852 - val_loss: 2.1344 - val_accuracy: 0.7600\n",
      "Epoch 79/100\n",
      "125/125 [==============================] - 129s 1s/step - loss: 0.1947 - accuracy: 0.8882 - val_loss: 26.7327 - val_accuracy: 0.8220\n",
      "Epoch 80/100\n",
      "125/125 [==============================] - 116s 924ms/step - loss: 0.1996 - accuracy: 0.8837 - val_loss: 65.1315 - val_accuracy: 0.8220\n",
      "Epoch 81/100\n",
      "125/125 [==============================] - 115s 923ms/step - loss: 0.1940 - accuracy: 0.8900 - val_loss: 179.1861 - val_accuracy: 0.8220\n",
      "Epoch 82/100\n",
      "125/125 [==============================] - 111s 891ms/step - loss: 0.1919 - accuracy: 0.8930 - val_loss: 1.8657 - val_accuracy: 0.7580\n",
      "Epoch 83/100\n",
      "125/125 [==============================] - 110s 882ms/step - loss: 0.1981 - accuracy: 0.8845 - val_loss: 202.1667 - val_accuracy: 0.8220\n",
      "Epoch 84/100\n",
      "125/125 [==============================] - 112s 893ms/step - loss: 0.1894 - accuracy: 0.8942 - val_loss: 118.9364 - val_accuracy: 0.8220\n",
      "Epoch 85/100\n",
      "125/125 [==============================] - 112s 894ms/step - loss: 0.1909 - accuracy: 0.8917 - val_loss: 79.3057 - val_accuracy: 0.8220\n",
      "Epoch 86/100\n",
      "125/125 [==============================] - 112s 895ms/step - loss: 0.1907 - accuracy: 0.8910 - val_loss: 2.7168 - val_accuracy: 0.7630\n",
      "Epoch 87/100\n",
      "125/125 [==============================] - 115s 922ms/step - loss: 0.1934 - accuracy: 0.8882 - val_loss: 6.1605 - val_accuracy: 0.8160\n",
      "Epoch 88/100\n",
      "125/125 [==============================] - 114s 915ms/step - loss: 0.1859 - accuracy: 0.8945 - val_loss: 86.9336 - val_accuracy: 0.8220\n",
      "Epoch 89/100\n",
      "125/125 [==============================] - 112s 893ms/step - loss: 0.1984 - accuracy: 0.8812 - val_loss: 2.4237 - val_accuracy: 0.7560\n",
      "Epoch 90/100\n",
      "125/125 [==============================] - 113s 901ms/step - loss: 0.1955 - accuracy: 0.8855 - val_loss: 52.8058 - val_accuracy: 0.8220\n",
      "Epoch 91/100\n",
      "125/125 [==============================] - 117s 933ms/step - loss: 0.1855 - accuracy: 0.8955 - val_loss: 30.7465 - val_accuracy: 0.8220\n",
      "Epoch 92/100\n",
      "125/125 [==============================] - 112s 897ms/step - loss: 0.1946 - accuracy: 0.8877 - val_loss: 1.9012 - val_accuracy: 0.7410\n",
      "Epoch 93/100\n",
      "125/125 [==============================] - 118s 944ms/step - loss: 0.1877 - accuracy: 0.8960 - val_loss: 2.3524 - val_accuracy: 0.7500\n",
      "Epoch 94/100\n",
      "125/125 [==============================] - 109s 871ms/step - loss: 0.1953 - accuracy: 0.8862 - val_loss: 1.1179 - val_accuracy: 0.7380\n",
      "Epoch 95/100\n",
      "125/125 [==============================] - 107s 854ms/step - loss: 0.1870 - accuracy: 0.8955 - val_loss: 2.8550 - val_accuracy: 0.7650\n",
      "Epoch 96/100\n",
      "125/125 [==============================] - 117s 940ms/step - loss: 0.1888 - accuracy: 0.8917 - val_loss: 150.2670 - val_accuracy: 0.8220\n",
      "Epoch 97/100\n",
      "125/125 [==============================] - 114s 908ms/step - loss: 0.1833 - accuracy: 0.8980 - val_loss: 35.7382 - val_accuracy: 0.8220\n",
      "Epoch 98/100\n",
      "125/125 [==============================] - 115s 917ms/step - loss: 0.1849 - accuracy: 0.8950 - val_loss: 35.9551 - val_accuracy: 0.8220\n",
      "Epoch 99/100\n",
      "125/125 [==============================] - 116s 927ms/step - loss: 0.1923 - accuracy: 0.8887 - val_loss: 157.1391 - val_accuracy: 0.8220\n",
      "Epoch 100/100\n",
      "125/125 [==============================] - 111s 890ms/step - loss: 0.1868 - accuracy: 0.8942 - val_loss: 162.5955 - val_accuracy: 0.8220\n"
     ]
    },
    {
     "data": {
      "image/png": "[encoded data removed]",
      "text/plain": [
       "<Figure size 432x288 with 1 Axes>"
      ]
     },
     "metadata": {
      "needs_background": "light"
     },
     "output_type": "display_data"
    },
    {
     "data": {
      "image/png": "[encoded data removed]",
      "text/plain": [
       "<Figure size 432x288 with 1 Axes>"
      ]
     },
     "metadata": {
      "needs_background": "light"
     },
     "output_type": "display_data"
    }
   ],
   "source": [
    "from keras.models import Sequential\n",
    "from keras.layers import Dense, Embedding, BatchNormalization, Dropout\n",
    "\n",
    "#stds = StandardScaler()\n",
    "stds = X_train\n",
    "model = Sequential()\n",
    "#model.add(Dense(units = 1024, input_dim = X.shape[1], activation='relu'))\n",
    "#model.add(Dense(units = 256, activation='relu'))\n",
    "#model.add(Dense(units = 128, activation='relu'))\n",
    "#model.add(Dense(units = 1))\n",
    " \n",
    "\n",
    "model.add(Embedding(1024+1, 50, input_length=X.shape[1]))\n",
    "#model.add(Dense(units = 1024, input_dim = X.shape[1], activation='relu'))\n",
    "model.add(Conv1D(192, 10, activation='relu'))\n",
    "model.add(BatchNormalization())\n",
    "model.add(Conv1D(192, 3, activation='relu'))\n",
    "model.add(Flatten())\n",
    "model.add(Dense(128, activation='relu'))\n",
    "model.add(Dropout(0.5))\n",
    "model.add(Dense(units = 1, activation='sigmoid'))\n",
    "# model.summary()\n",
    "\n",
    "model.compile(loss = 'binary_crossentropy',\n",
    "    optimizer = 'adam',\n",
    "    metrics=['accuracy'])\n",
    "history = model.fit(X_train, y_train, epochs = 100, batch_size = 32,\n",
    "    validation_data = (X_test, y_test), verbose=1)\n",
    "\n",
    "\n",
    "y_pred_train = model.predict(X_train)\n",
    "#print(\"Train set R^2: \", #r2_score(y_train, y_pred_train))\n",
    "#print(\"Train MAE score: %.4f\" % mean_absolute_error(y_train, y_pred_train))\n",
    "\n",
    "y_pred_test = model.predict(X_test)\n",
    "#print(\"Test set R^2: \", r2_score(y_test, y_pred_test))\n",
    "#print(\"Test MAE score: %.4f\" % mean_absolute_error(y_test, y_pred_test))\n",
    "\n",
    "\n",
    "loss = history.history['loss']\n",
    "val_loss = history.history['val_loss']\n",
    "epochs = len(loss)\n",
    "plt.xlim((0, 50))\n",
    "plt.ylim((0, 1))\n",
    "plt.plot(range(epochs), loss, marker = '.', label = 'loss')\n",
    "plt.plot(range(epochs), val_loss, marker = '.', label = 'val_loss')\n",
    "plt.legend(loc = 'best')\n",
    "plt.grid()\n",
    "plt.xlabel('epoch')\n",
    "plt.ylabel('loss')\n",
    "plt.show()\n",
    "\n",
    "\n",
    "\n",
    "#plt.xlim((-12,2))\n",
    "#plt.ylim((-12,2))\n",
    "plt.title(\"Neural Network Prediction with Scaler\")\n",
    "plt.xlabel(\"Real LogS\")\n",
    "plt.ylabel(\"Predicted LogS\")\n",
    "plt.grid()\n",
    "plt.scatter(y_train, y_pred_train, \n",
    "            color=\"blue\", alpha=0.8, label=\"train\")\n",
    "plt.scatter(y_test, y_pred_test, \n",
    "            color=\"lightgreen\", alpha=0.8, label=\"test\")\n",
    "plt.legend(loc = 'best')\n",
    "plt.show()"
   ]
  },
  {
   "cell_type": "code",
   "execution_count": 63,
   "metadata": {},
   "outputs": [],
   "source": [
    "model.save(\"models/cnn_1d_1110.h5\")"
   ]
  },
  {
   "cell_type": "code",
   "execution_count": 83,
   "metadata": {},
   "outputs": [
    {
     "data": {
      "text/plain": [
       "(1000, 2048)"
      ]
     },
     "execution_count": 83,
     "metadata": {},
     "output_type": "execute_result"
    }
   ],
   "source": [
    "X_test.shape"
   ]
  },
  {
   "cell_type": "code",
   "execution_count": 88,
   "metadata": {},
   "outputs": [
    {
     "data": {
      "text/plain": [
       "(1, 2048)"
      ]
     },
     "execution_count": 88,
     "metadata": {},
     "output_type": "execute_result"
    }
   ],
   "source": [
    "features_test.reshape(1, -1)"
   ]
  },
  {
   "cell_type": "code",
   "execution_count": 89,
   "metadata": {},
   "outputs": [
    {
     "data": {
      "text/plain": [
       "array([[1.]], dtype=float32)"
      ]
     },
     "execution_count": 89,
     "metadata": {},
     "output_type": "execute_result"
    }
   ],
   "source": [
    "smile_test = \"NC(=O)NC(Cc1ccccc1)C(=O)O\"\n",
    "features_test = np.array(fingerprint_features(smile_test))\n",
    "model.predict(features_test.reshape(1, -1))"
   ]
  },
  {
   "cell_type": "markdown",
   "metadata": {},
   "source": [
    "## Model 2 - smiles as input"
   ]
  },
  {
   "cell_type": "code",
   "execution_count": null,
   "metadata": {},
   "outputs": [],
   "source": []
  },
  {
   "cell_type": "markdown",
   "metadata": {},
   "source": [
    "## Model 3 - extension to multi"
   ]
  },
  {
   "cell_type": "code",
   "execution_count": null,
   "metadata": {},
   "outputs": [],
   "source": []
  }
 ],
 "metadata": {
  "kernelspec": {
   "display_name": "servier",
   "language": "python",
   "name": "servier"
  },
  "language_info": {
   "codemirror_mode": {
    "name": "ipython",
    "version": 3
   },
   "file_extension": ".py",
   "mimetype": "text/x-python",
   "name": "python",
   "nbconvert_exporter": "python",
   "pygments_lexer": "ipython3",
   "version": "3.6.12"
  }
 },
 "nbformat": 4,
 "nbformat_minor": 2
}
